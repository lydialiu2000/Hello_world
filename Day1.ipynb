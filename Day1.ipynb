{
  "nbformat": 4,
  "nbformat_minor": 0,
  "metadata": {
    "colab": {
      "name": "Day1.ipynb",
      "provenance": [],
      "include_colab_link": true
    },
    "kernelspec": {
      "name": "python3",
      "display_name": "Python 3"
    }
  },
  "cells": [
    {
      "cell_type": "markdown",
      "metadata": {
        "id": "view-in-github",
        "colab_type": "text"
      },
      "source": [
        "<a href=\"https://colab.research.google.com/github/lydialiu2000/Hello_world/blob/main/Day1.ipynb\" target=\"_parent\"><img src=\"https://colab.research.google.com/assets/colab-badge.svg\" alt=\"Open In Colab\"/></a>"
      ]
    },
    {
      "cell_type": "code",
      "metadata": {
        "colab": {
          "base_uri": "https://localhost:8080/"
        },
        "id": "dF9FBBVBIJYO",
        "outputId": "6014f1a1-afac-44b8-ebfd-b912758d08a5"
      },
      "source": [
        "print(\"hello world\")"
      ],
      "execution_count": 1,
      "outputs": [
        {
          "output_type": "stream",
          "text": [
            "hello world\n"
          ],
          "name": "stdout"
        }
      ]
    },
    {
      "cell_type": "code",
      "metadata": {
        "colab": {
          "base_uri": "https://localhost:8080/"
        },
        "id": "dK9zH8r5R700",
        "outputId": "49a77f04-96a0-4f68-e25f-6dc3fce148e1"
      },
      "source": [
        "numbers = [1, 2, 3, 4]\n",
        "sum1 = 0\n",
        "for val in numbers:\n",
        "  sum1 = sum1 + val\n",
        "\n",
        "print(sum1)"
      ],
      "execution_count": 2,
      "outputs": [
        {
          "output_type": "stream",
          "text": [
            "10\n"
          ],
          "name": "stdout"
        }
      ]
    },
    {
      "cell_type": "code",
      "metadata": {
        "colab": {
          "base_uri": "https://localhost:8080/"
        },
        "id": "ejzrfQRVSNta",
        "outputId": "d30c2549-8e5b-4449-cc21-5635c9168a22"
      },
      "source": [
        "p1 = 4\n",
        "p2 = 2\n",
        "p3 = 5\n",
        "\n",
        "def plus(a, b, c=10, d=100):\n",
        "  b = b+c\n",
        "  print(b)\n",
        "\n",
        "def mul(a, b):\n",
        "  a *= b\n",
        "  print(a)\n",
        "\n",
        "def div(a, b):\n",
        "  a /= b\n",
        "  print(a)\n",
        "\n",
        "plus(p1, p2)\n",
        "mul(p1, p2)\n",
        "div(p1, p2)\n"
      ],
      "execution_count": 3,
      "outputs": [
        {
          "output_type": "stream",
          "text": [
            "12\n",
            "8\n",
            "2.0\n"
          ],
          "name": "stdout"
        }
      ]
    },
    {
      "cell_type": "code",
      "metadata": {
        "colab": {
          "base_uri": "https://localhost:8080/"
        },
        "id": "hDKzuE68R-Tz",
        "outputId": "4e5a27b4-4370-4f60-a017-d7e504295512"
      },
      "source": [
        "sum(numbers)"
      ],
      "execution_count": 4,
      "outputs": [
        {
          "output_type": "execute_result",
          "data": {
            "text/plain": [
              "10"
            ]
          },
          "metadata": {
            "tags": []
          },
          "execution_count": 4
        }
      ]
    },
    {
      "cell_type": "code",
      "metadata": {
        "id": "Zf9VxiWNVGNh"
      },
      "source": [
        "def lydia_sum(nums):\n",
        "  total = 0\n",
        "  for n in nums:\n",
        "    total = total + n\n",
        "  return total"
      ],
      "execution_count": 5,
      "outputs": []
    },
    {
      "cell_type": "code",
      "metadata": {
        "colab": {
          "base_uri": "https://localhost:8080/"
        },
        "id": "ziG_Zoa7VSgx",
        "outputId": "dcf87081-c893-4077-c939-e8f935b08530"
      },
      "source": [
        "lydia_sum(numbers)"
      ],
      "execution_count": 6,
      "outputs": [
        {
          "output_type": "execute_result",
          "data": {
            "text/plain": [
              "10"
            ]
          },
          "metadata": {
            "tags": []
          },
          "execution_count": 6
        }
      ]
    },
    {
      "cell_type": "code",
      "metadata": {
        "id": "X6aMPwVeV1u2"
      },
      "source": [
        "class Classmate:\n",
        "  def __init__classmate(name, age):\n",
        "    classmate.name = name\n",
        "    classmate.age = age\n",
        "\n",
        "  \n",
        "\n",
        "\n",
        "\n"
      ],
      "execution_count": 48,
      "outputs": []
    },
    {
      "cell_type": "code",
      "metadata": {
        "id": "ZvS77zOIWl7H"
      },
      "source": [
        "class Classmate:\n",
        "  def __init__(self, name, age):\n",
        "    self.name = name\n",
        "    self.age = age\n",
        "\n",
        "    # print(\"default print \" + self.name+ \",\"+ str(self.age))\n",
        "  \n",
        "  def print(self):\n",
        "      print(\"print method \" + self.name+ \",\"+ str(self.age))\n"
      ],
      "execution_count": 66,
      "outputs": []
    },
    {
      "cell_type": "code",
      "metadata": {
        "id": "bxDTdrPpX2iW"
      },
      "source": [
        "tom = Classmate(\"Tom\", 30)\n",
        "#tom.print()"
      ],
      "execution_count": 68,
      "outputs": []
    }
  ]
}