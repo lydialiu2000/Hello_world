{
  "nbformat": 4,
  "nbformat_minor": 0,
  "metadata": {
    "colab": {
      "name": "Day5-list.ipynb",
      "provenance": [],
      "authorship_tag": "ABX9TyOoEAwBsT3xvwvgD4IMJiuK",
      "include_colab_link": true
    },
    "kernelspec": {
      "name": "python3",
      "display_name": "Python 3"
    }
  },
  "cells": [
    {
      "cell_type": "markdown",
      "metadata": {
        "id": "view-in-github",
        "colab_type": "text"
      },
      "source": [
        "<a href=\"https://colab.research.google.com/github/lydialiu2000/Hello_world/blob/main/Day5_list.ipynb\" target=\"_parent\"><img src=\"https://colab.research.google.com/assets/colab-badge.svg\" alt=\"Open In Colab\"/></a>"
      ]
    },
    {
      "cell_type": "code",
      "metadata": {
        "id": "clKsU9FWg5av"
      },
      "source": [
        "planets = ['mercury', 'venus', 'earth', 'mars', 'jupiter', 'saturn', 'uranus', 'napturn']"
      ],
      "execution_count": 42,
      "outputs": []
    },
    {
      "cell_type": "code",
      "metadata": {
        "colab": {
          "base_uri": "https://localhost:8080/",
          "height": 35
        },
        "id": "HSy3OG21iP43",
        "outputId": "2d401c90-84fa-4ef2-a7b8-5cf5d8eb8d34"
      },
      "source": [
        "planets[0]"
      ],
      "execution_count": 11,
      "outputs": [
        {
          "output_type": "execute_result",
          "data": {
            "application/vnd.google.colaboratory.intrinsic+json": {
              "type": "string"
            },
            "text/plain": [
              "'mercury'"
            ]
          },
          "metadata": {
            "tags": []
          },
          "execution_count": 11
        }
      ]
    },
    {
      "cell_type": "code",
      "metadata": {
        "colab": {
          "base_uri": "https://localhost:8080/"
        },
        "id": "rJzAv4v5iRNv",
        "outputId": "75df36fb-2e0a-4abb-925d-2dc43de9bfc6"
      },
      "source": [
        "planets[2:-2]"
      ],
      "execution_count": 13,
      "outputs": [
        {
          "output_type": "execute_result",
          "data": {
            "text/plain": [
              "['earth', 'mars', 'jupiter', 'saturn']"
            ]
          },
          "metadata": {
            "tags": []
          },
          "execution_count": 13
        }
      ]
    },
    {
      "cell_type": "code",
      "metadata": {
        "colab": {
          "base_uri": "https://localhost:8080/"
        },
        "id": "8U2IzRTqiYFB",
        "outputId": "d51e0af0-21d2-4638-e4a0-251824ab56f4"
      },
      "source": [
        "planets[1:-2]"
      ],
      "execution_count": 15,
      "outputs": [
        {
          "output_type": "execute_result",
          "data": {
            "text/plain": [
              "['venus', 'earth', 'mars', 'jupiter', 'saturn']"
            ]
          },
          "metadata": {
            "tags": []
          },
          "execution_count": 15
        }
      ]
    },
    {
      "cell_type": "code",
      "metadata": {
        "colab": {
          "base_uri": "https://localhost:8080/"
        },
        "id": "wJD7-xpcidbD",
        "outputId": "e36109e3-3f33-4ba2-e470-aec0cc21d0d5"
      },
      "source": [
        "planets[3:]"
      ],
      "execution_count": 16,
      "outputs": [
        {
          "output_type": "execute_result",
          "data": {
            "text/plain": [
              "['mars', 'jupiter', 'saturn', 'uranus', 'napturn']"
            ]
          },
          "metadata": {
            "tags": []
          },
          "execution_count": 16
        }
      ]
    },
    {
      "cell_type": "code",
      "metadata": {
        "colab": {
          "base_uri": "https://localhost:8080/"
        },
        "id": "3xKUfhSxioB-",
        "outputId": "ece698ec-873e-41df-be94-0428eeea0a04"
      },
      "source": [
        "planets[:-3]"
      ],
      "execution_count": 17,
      "outputs": [
        {
          "output_type": "execute_result",
          "data": {
            "text/plain": [
              "['mercury', 'venus', 'earth', 'mars', 'jupiter']"
            ]
          },
          "metadata": {
            "tags": []
          },
          "execution_count": 17
        }
      ]
    },
    {
      "cell_type": "code",
      "metadata": {
        "colab": {
          "base_uri": "https://localhost:8080/"
        },
        "id": "-jvhhGDoi6-E",
        "outputId": "8e98957b-86f3-4e0b-ec77-9a04b9a00581"
      },
      "source": [
        "planets[3] = 'EARTH'\n",
        "planets"
      ],
      "execution_count": 52,
      "outputs": [
        {
          "output_type": "execute_result",
          "data": {
            "text/plain": [
              "['mercury',\n",
              " 'venus',\n",
              " 'earth',\n",
              " 'EARTH',\n",
              " 'jupiter',\n",
              " 'saturn',\n",
              " 'uranus',\n",
              " 'napturn']"
            ]
          },
          "metadata": {
            "tags": []
          },
          "execution_count": 52
        }
      ]
    },
    {
      "cell_type": "code",
      "metadata": {
        "colab": {
          "base_uri": "https://localhost:8080/"
        },
        "id": "HV_DSdgsjXTM",
        "outputId": "49b2450a-1797-48ce-fa21-066729863c93"
      },
      "source": [
        "#planets[:3] = ['Mercury', 'Venus', 'Earth', 'Mar']\n",
        "#print(planets) "
      ],
      "execution_count": 40,
      "outputs": [
        {
          "output_type": "stream",
          "text": [
            "['Mercury', 'Venus', 'Earth', 'Mar', 'mars', 'jupiter', 'saturn', 'uranus', 'napturn']\n"
          ],
          "name": "stdout"
        }
      ]
    },
    {
      "cell_type": "code",
      "metadata": {
        "colab": {
          "base_uri": "https://localhost:8080/"
        },
        "id": "_Hn_lY5_lsT1",
        "outputId": "8e2f4353-9cc8-4dfa-9708-0ebf6e8fcd34"
      },
      "source": [
        "len(planets)"
      ],
      "execution_count": 43,
      "outputs": [
        {
          "output_type": "execute_result",
          "data": {
            "text/plain": [
              "8"
            ]
          },
          "metadata": {
            "tags": []
          },
          "execution_count": 43
        }
      ]
    },
    {
      "cell_type": "code",
      "metadata": {
        "colab": {
          "base_uri": "https://localhost:8080/"
        },
        "id": "6WK8sse0l6fo",
        "outputId": "114b581f-d301-4491-b773-5fe7c0c6286b"
      },
      "source": [
        "sorted(planets)"
      ],
      "execution_count": 44,
      "outputs": [
        {
          "output_type": "execute_result",
          "data": {
            "text/plain": [
              "['earth', 'jupiter', 'mars', 'mercury', 'napturn', 'saturn', 'uranus', 'venus']"
            ]
          },
          "metadata": {
            "tags": []
          },
          "execution_count": 44
        }
      ]
    },
    {
      "cell_type": "code",
      "metadata": {
        "colab": {
          "base_uri": "https://localhost:8080/",
          "height": 181
        },
        "id": "dBtIIdtskd55",
        "outputId": "7246a671-c246-401a-de10-3b076d116b6a"
      },
      "source": [
        "planets[:4] = ['Mercury', 'Venus', 'Earth', 'Mars']\n",
        "print(planets)"
      ],
      "execution_count": 12,
      "outputs": [
        {
          "output_type": "error",
          "ename": "NameError",
          "evalue": "ignored",
          "traceback": [
            "\u001b[0;31m---------------------------------------------------------------------------\u001b[0m",
            "\u001b[0;31mNameError\u001b[0m                                 Traceback (most recent call last)",
            "\u001b[0;32m<ipython-input-12-6c34c18c7683>\u001b[0m in \u001b[0;36m<module>\u001b[0;34m()\u001b[0m\n\u001b[0;32m----> 1\u001b[0;31m \u001b[0mplanets\u001b[0m\u001b[0;34m[\u001b[0m\u001b[0;34m:\u001b[0m\u001b[0;36m4\u001b[0m\u001b[0;34m+\u001b[0m\u001b[0;36m1\u001b[0m\u001b[0;34m]\u001b[0m \u001b[0;34m=\u001b[0m \u001b[0;34m[\u001b[0m\u001b[0;34m'Mercury'\u001b[0m\u001b[0;34m,\u001b[0m \u001b[0;34m'Venus'\u001b[0m\u001b[0;34m,\u001b[0m \u001b[0;34m'Earth'\u001b[0m\u001b[0;34m,\u001b[0m \u001b[0;34m'Mars'\u001b[0m\u001b[0;34m]\u001b[0m\u001b[0;34m\u001b[0m\u001b[0;34m\u001b[0m\u001b[0m\n\u001b[0m\u001b[1;32m      2\u001b[0m \u001b[0mprint\u001b[0m\u001b[0;34m(\u001b[0m\u001b[0mplanets\u001b[0m\u001b[0;34m)\u001b[0m\u001b[0;34m\u001b[0m\u001b[0;34m\u001b[0m\u001b[0m\n",
            "\u001b[0;31mNameError\u001b[0m: name 'planets' is not defined"
          ]
        }
      ]
    },
    {
      "cell_type": "code",
      "metadata": {
        "colab": {
          "base_uri": "https://localhost:8080/"
        },
        "id": "bdUfA1UsveRi",
        "outputId": "8acc4005-b204-4058-b60b-b769079b638d"
      },
      "source": [
        "planets.index('Earth')"
      ],
      "execution_count": 58,
      "outputs": [
        {
          "output_type": "execute_result",
          "data": {
            "text/plain": [
              "2"
            ]
          },
          "metadata": {
            "tags": []
          },
          "execution_count": 58
        }
      ]
    },
    {
      "cell_type": "code",
      "metadata": {
        "colab": {
          "base_uri": "https://localhost:8080/"
        },
        "id": "OMlIjXu6wNT8",
        "outputId": "9bbc0a0f-2271-4079-de7e-dd7f80bcc3fa"
      },
      "source": [
        "\"Earth\" in planets\n"
      ],
      "execution_count": 60,
      "outputs": [
        {
          "output_type": "execute_result",
          "data": {
            "text/plain": [
              "True"
            ]
          },
          "metadata": {
            "tags": []
          },
          "execution_count": 60
        }
      ]
    },
    {
      "cell_type": "code",
      "metadata": {
        "colab": {
          "base_uri": "https://localhost:8080/",
          "height": 35
        },
        "id": "Var4RMUCwbJ6",
        "outputId": "5632a254-e58c-44eb-c84e-e9cc747fd524"
      },
      "source": [
        "planets.pop()"
      ],
      "execution_count": 61,
      "outputs": [
        {
          "output_type": "execute_result",
          "data": {
            "application/vnd.google.colaboratory.intrinsic+json": {
              "type": "string"
            },
            "text/plain": [
              "'napturn'"
            ]
          },
          "metadata": {
            "tags": []
          },
          "execution_count": 61
        }
      ]
    },
    {
      "cell_type": "code",
      "metadata": {
        "colab": {
          "base_uri": "https://localhost:8080/"
        },
        "id": "Qzy1hIUBwjQz",
        "outputId": "db96aaad-779a-478b-91cf-111eb05f177a"
      },
      "source": [
        "planets"
      ],
      "execution_count": 62,
      "outputs": [
        {
          "output_type": "execute_result",
          "data": {
            "text/plain": [
              "['Mercury', 'Venus', 'Earth', 'Mars', 'jupiter', 'saturn', 'uranus']"
            ]
          },
          "metadata": {
            "tags": []
          },
          "execution_count": 62
        }
      ]
    },
    {
      "cell_type": "code",
      "metadata": {
        "colab": {
          "base_uri": "https://localhost:8080/"
        },
        "id": "Py4JMxS6wp4-",
        "outputId": "8ed9e32d-2739-4116-9614-f115be5f2171"
      },
      "source": [
        "help(planets)"
      ],
      "execution_count": 63,
      "outputs": [
        {
          "output_type": "stream",
          "text": [
            "Help on list object:\n",
            "\n",
            "class list(object)\n",
            " |  list(iterable=(), /)\n",
            " |  \n",
            " |  Built-in mutable sequence.\n",
            " |  \n",
            " |  If no argument is given, the constructor creates a new empty list.\n",
            " |  The argument must be an iterable if specified.\n",
            " |  \n",
            " |  Methods defined here:\n",
            " |  \n",
            " |  __add__(self, value, /)\n",
            " |      Return self+value.\n",
            " |  \n",
            " |  __contains__(self, key, /)\n",
            " |      Return key in self.\n",
            " |  \n",
            " |  __delitem__(self, key, /)\n",
            " |      Delete self[key].\n",
            " |  \n",
            " |  __eq__(self, value, /)\n",
            " |      Return self==value.\n",
            " |  \n",
            " |  __ge__(self, value, /)\n",
            " |      Return self>=value.\n",
            " |  \n",
            " |  __getattribute__(self, name, /)\n",
            " |      Return getattr(self, name).\n",
            " |  \n",
            " |  __getitem__(...)\n",
            " |      x.__getitem__(y) <==> x[y]\n",
            " |  \n",
            " |  __gt__(self, value, /)\n",
            " |      Return self>value.\n",
            " |  \n",
            " |  __iadd__(self, value, /)\n",
            " |      Implement self+=value.\n",
            " |  \n",
            " |  __imul__(self, value, /)\n",
            " |      Implement self*=value.\n",
            " |  \n",
            " |  __init__(self, /, *args, **kwargs)\n",
            " |      Initialize self.  See help(type(self)) for accurate signature.\n",
            " |  \n",
            " |  __iter__(self, /)\n",
            " |      Implement iter(self).\n",
            " |  \n",
            " |  __le__(self, value, /)\n",
            " |      Return self<=value.\n",
            " |  \n",
            " |  __len__(self, /)\n",
            " |      Return len(self).\n",
            " |  \n",
            " |  __lt__(self, value, /)\n",
            " |      Return self<value.\n",
            " |  \n",
            " |  __mul__(self, value, /)\n",
            " |      Return self*value.\n",
            " |  \n",
            " |  __ne__(self, value, /)\n",
            " |      Return self!=value.\n",
            " |  \n",
            " |  __repr__(self, /)\n",
            " |      Return repr(self).\n",
            " |  \n",
            " |  __reversed__(self, /)\n",
            " |      Return a reverse iterator over the list.\n",
            " |  \n",
            " |  __rmul__(self, value, /)\n",
            " |      Return value*self.\n",
            " |  \n",
            " |  __setitem__(self, key, value, /)\n",
            " |      Set self[key] to value.\n",
            " |  \n",
            " |  __sizeof__(self, /)\n",
            " |      Return the size of the list in memory, in bytes.\n",
            " |  \n",
            " |  append(self, object, /)\n",
            " |      Append object to the end of the list.\n",
            " |  \n",
            " |  clear(self, /)\n",
            " |      Remove all items from list.\n",
            " |  \n",
            " |  copy(self, /)\n",
            " |      Return a shallow copy of the list.\n",
            " |  \n",
            " |  count(self, value, /)\n",
            " |      Return number of occurrences of value.\n",
            " |  \n",
            " |  extend(self, iterable, /)\n",
            " |      Extend list by appending elements from the iterable.\n",
            " |  \n",
            " |  index(self, value, start=0, stop=9223372036854775807, /)\n",
            " |      Return first index of value.\n",
            " |      \n",
            " |      Raises ValueError if the value is not present.\n",
            " |  \n",
            " |  insert(self, index, object, /)\n",
            " |      Insert object before index.\n",
            " |  \n",
            " |  pop(self, index=-1, /)\n",
            " |      Remove and return item at index (default last).\n",
            " |      \n",
            " |      Raises IndexError if list is empty or index is out of range.\n",
            " |  \n",
            " |  remove(self, value, /)\n",
            " |      Remove first occurrence of value.\n",
            " |      \n",
            " |      Raises ValueError if the value is not present.\n",
            " |  \n",
            " |  reverse(self, /)\n",
            " |      Reverse *IN PLACE*.\n",
            " |  \n",
            " |  sort(self, /, *, key=None, reverse=False)\n",
            " |      Stable sort *IN PLACE*.\n",
            " |  \n",
            " |  ----------------------------------------------------------------------\n",
            " |  Static methods defined here:\n",
            " |  \n",
            " |  __new__(*args, **kwargs) from builtins.type\n",
            " |      Create and return a new object.  See help(type) for accurate signature.\n",
            " |  \n",
            " |  ----------------------------------------------------------------------\n",
            " |  Data and other attributes defined here:\n",
            " |  \n",
            " |  __hash__ = None\n",
            "\n"
          ],
          "name": "stdout"
        }
      ]
    },
    {
      "cell_type": "code",
      "metadata": {
        "id": "Ra9RSHdZmEpj"
      },
      "source": [
        "primes = [2, 3, 5, 7]"
      ],
      "execution_count": 57,
      "outputs": []
    },
    {
      "cell_type": "code",
      "metadata": {
        "colab": {
          "base_uri": "https://localhost:8080/"
        },
        "id": "QvcnOxkAmN8W",
        "outputId": "07cbf19b-a7e3-442f-a675-6e80c859e5ad"
      },
      "source": [
        "sum(primes)"
      ],
      "execution_count": 48,
      "outputs": [
        {
          "output_type": "execute_result",
          "data": {
            "text/plain": [
              "17"
            ]
          },
          "metadata": {
            "tags": []
          },
          "execution_count": 48
        }
      ]
    },
    {
      "cell_type": "code",
      "metadata": {
        "colab": {
          "base_uri": "https://localhost:8080/"
        },
        "id": "V2ijNhGOmQJl",
        "outputId": "57d2169a-283d-41a2-ad00-69ce2b4361fd"
      },
      "source": [
        "max(primes)"
      ],
      "execution_count": 50,
      "outputs": [
        {
          "output_type": "execute_result",
          "data": {
            "text/plain": [
              "7"
            ]
          },
          "metadata": {
            "tags": []
          },
          "execution_count": 50
        }
      ]
    },
    {
      "cell_type": "code",
      "metadata": {
        "colab": {
          "base_uri": "https://localhost:8080/",
          "height": 35
        },
        "id": "7WVZzuA9zXYm",
        "outputId": "1c737e65-1343-458a-d9c0-13da8484e4ff"
      },
      "source": [
        "def select_second(L):\n",
        "    \"\"\"Return the second element of the given list. If the list has no second\n",
        "    element, return None.\n",
        "    \"\"\"\n",
        "    \n",
        "    return L[1] if len(L) > 1 else \"None\"\n",
        "\n",
        "select_second(['Key', 'Lock', 'Door', 'Room'])   \n",
        "    #pass"
      ],
      "execution_count": 73,
      "outputs": [
        {
          "output_type": "execute_result",
          "data": {
            "application/vnd.google.colaboratory.intrinsic+json": {
              "type": "string"
            },
            "text/plain": [
              "'Lock'"
            ]
          },
          "metadata": {
            "tags": []
          },
          "execution_count": 73
        }
      ]
    },
    {
      "cell_type": "code",
      "metadata": {
        "colab": {
          "base_uri": "https://localhost:8080/",
          "height": 35
        },
        "id": "sH80jA8J5H5k",
        "outputId": "7db61879-395c-4ded-f008-682ab157ef86"
      },
      "source": [
        "def select_second(L):\n",
        "  if len(L) < 2:\n",
        "    return None\n",
        "  \n",
        "  return L[1]\n",
        "\n",
        "\n",
        "L = ['Key', 'Lock', 'Door', 'Room']\n",
        "select_second(L)\n"
      ],
      "execution_count": 83,
      "outputs": [
        {
          "output_type": "execute_result",
          "data": {
            "application/vnd.google.colaboratory.intrinsic+json": {
              "type": "string"
            },
            "text/plain": [
              "'Lock'"
            ]
          },
          "metadata": {
            "tags": []
          },
          "execution_count": 83
        }
      ]
    },
    {
      "cell_type": "code",
      "metadata": {
        "id": "5QNZygnZtADA"
      },
      "source": [
        "def purple_shell(racers):\n",
        "    \"\"\"Given a list of racers, set the first place racer (at the front of the list) to last\n",
        "    place and vice versa.\n",
        "    \n",
        "    >>> r = [\"Mario\", \"Bowser\", \"Luigi\"]\n",
        "    >>> purple_shell(r)\n",
        "    >>> r\n",
        "    [\"Luigi\", \"Bowser\", \"Mario\"]\n",
        "    \"\"\"\n",
        "    tempt = racers[0]\n",
        "    racers[0] = racers[-1]\n",
        "    racers[-1] = temp\n",
        "    pass"
      ],
      "execution_count": 6,
      "outputs": []
    },
    {
      "cell_type": "code",
      "metadata": {
        "colab": {
          "base_uri": "https://localhost:8080/"
        },
        "id": "0ZoixcVUuKuA",
        "outputId": "f0053893-3703-4d37-bf43-abe84c6f4849"
      },
      "source": [
        "d = [1, 2, 3][1:]\n",
        "len(d)"
      ],
      "execution_count": 7,
      "outputs": [
        {
          "output_type": "execute_result",
          "data": {
            "text/plain": [
              "2"
            ]
          },
          "metadata": {
            "tags": []
          },
          "execution_count": 7
        }
      ]
    },
    {
      "cell_type": "code",
      "metadata": {
        "id": "Ya2oThxUudrb"
      },
      "source": [
        "a = [1, 2, 3]\n",
        "b = [1, [2, 3]]\n",
        "c = []\n",
        "d = [1, 2, 3][1:]\n",
        "\n",
        "# Put your predictions in the list below. Lengths should contain 4 numbers, the\n",
        "# first being the length of a, the second being the length of b and so on.\n",
        "lengths = [3, 2, 0, 2]\n",
        "pass\n",
        "\n",
        "\"\"\"\n",
        "ANSWER>>> \n",
        "a: There are three items in this list. Nothing tricky yet.\n",
        "b: The list [2, 3] counts as a single item. It has one item before it. So we have 2 items in the list\n",
        "c: The empty list has 0 items\n",
        "d: The expression is the same as the list [2, 3], which has length 2.\n",
        "\"\"\"\n"
      ],
      "execution_count": 9,
      "outputs": []
    },
    {
      "cell_type": "code",
      "metadata": {
        "colab": {
          "base_uri": "https://localhost:8080/"
        },
        "id": "aEovCxTnxx6O",
        "outputId": "d526fe51-f9c8-459b-a50f-62b41f232f62"
      },
      "source": [
        "int(8/2)"
      ],
      "execution_count": 11,
      "outputs": [
        {
          "output_type": "execute_result",
          "data": {
            "text/plain": [
              "4"
            ]
          },
          "metadata": {
            "tags": []
          },
          "execution_count": 11
        }
      ]
    },
    {
      "cell_type": "code",
      "metadata": {
        "colab": {
          "base_uri": "https://localhost:8080/"
        },
        "id": "WOmkkBfc5wfS",
        "outputId": "d76da259-8c7f-4a93-cd45-387475669a83"
      },
      "source": [
        "def fashionably_late(arrivals, name):\n",
        "    \"\"\"Given an ordered list of arrivals to the party and a name, return whether the guest with that\n",
        "    name was fashionably late.\n",
        "    \"\"\"\n",
        "    if len(arrivals) % 2 ==1:\n",
        "        if name in arrivals[(1 + int(len(arrivals) / 2)) : -1]:\n",
        "            #return bool(name)\n",
        "            print(name, \"is fashinably late\")\n",
        "        else: \n",
        "          print(name, \"is not fashionably late\") \n",
        "        \n",
        "    elif len(arrivals) % 2 == 0:\n",
        "        if name in arrivals[int(len(arrivals) / 2):-1]:\n",
        "            #return bool(name)\n",
        "            print(name, \"is fashinably late\")\n",
        "        else:\n",
        "          print(name, \"is not fashionably late\")\n",
        "\n",
        "\n",
        "name = 'Richeal'\n",
        "fashionably_late(['Lisa', 'Ming', 'Johson', 'Jim', 'Share', 'Richeal'], name)\n"
      ],
      "execution_count": 120,
      "outputs": [
        {
          "output_type": "stream",
          "text": [
            "Richeal is not fashionably late\n"
          ],
          "name": "stdout"
        }
      ]
    },
    {
      "cell_type": "code",
      "metadata": {
        "colab": {
          "base_uri": "https://localhost:8080/"
        },
        "id": "8StBoBCpBRaD",
        "outputId": "f53356da-a191-408b-da6a-935261077383"
      },
      "source": [
        "def fashionably_late(arrivals, name):\n",
        "    \"\"\"Given an ordered list of arrivals to the party and a name, return whether the guest with that\n",
        "    name was fashionably late.\n",
        "    \"\"\"\n",
        "    if (len(arrivals)) % 2 ==1:\n",
        "        return True if name in arrivals[(1 + int(len(arrivals) / 2)) : -1] else False\n",
        "            \n",
        "            #print(name, \"is fashinably late\")\n",
        "        #else: \n",
        "           #return False\n",
        "        \n",
        "    elif len(arrivals) % 2 == 0:\n",
        "        return True if name in arrivals[int(len(arrivals) / 2):-1] else False\n",
        "            #return True\n",
        "            #print(name, \"is fashinably late\")\n",
        "        #else:\n",
        "           #False\n",
        "\n",
        "\n",
        "name = 'Jim'\n",
        "fashionably_late(['Lisa', 'Ming', 'Johson', 'Jim', 'Share'], name)"
      ],
      "execution_count": 121,
      "outputs": [
        {
          "output_type": "execute_result",
          "data": {
            "text/plain": [
              "True"
            ]
          },
          "metadata": {
            "tags": []
          },
          "execution_count": 121
        }
      ]
    },
    {
      "cell_type": "code",
      "metadata": {
        "colab": {
          "base_uri": "https://localhost:8080/"
        },
        "id": "kaPuA-G8S61g",
        "outputId": "ffcc3b9c-2223-48a7-e59c-53ebdf1cc8d3"
      },
      "source": [
        "def fashionably_late(arrivals, name):\n",
        "    \"\"\"Given an ordered list of arrivals to the party and a name, return whether the guest with that\n",
        "    name was fashionably late.\n",
        "    \"\"\"\n",
        "    if (len(arrivals)) % 2 ==1:\n",
        "      while name in arrivals[(1 + int(len(arrivals) / 2)) : -1]:\n",
        "        return True\n",
        "      else: \n",
        "        return False\n",
        "            \n",
        "            #print(name, \"is fashinably late\")\n",
        "        #else: \n",
        "           #return False\n",
        "        \n",
        "    elif len(arrivals) % 2 == 0:\n",
        "      while name in arrivals[int(len(arrivals) / 2):-1]:\n",
        "        return True\n",
        "      else: \n",
        "        return False\n",
        "       \n",
        "            #return True\n",
        "            #print(name, \"is fashinably late\")\n",
        "        #else:\n",
        "           #False\n",
        "\n",
        "\n",
        "name = 'Jim'\n",
        "fashionably_late(['Lisa', 'Ming', 'Johson', 'Jim', 'Share'], name)"
      ],
      "execution_count": 127,
      "outputs": [
        {
          "output_type": "execute_result",
          "data": {
            "text/plain": [
              "True"
            ]
          },
          "metadata": {
            "tags": []
          },
          "execution_count": 127
        }
      ]
    },
    {
      "cell_type": "code",
      "metadata": {
        "colab": {
          "base_uri": "https://localhost:8080/"
        },
        "id": "bF2OzU8CMTce",
        "outputId": "51563411-f121-41bf-d8e3-0832fe99c780"
      },
      "source": [
        "def fashionably_late(arrivals, name):\n",
        "    \"\"\"Given an ordered list of arrivals to the party and a name, return whether the guest with that\n",
        "    name was fashionably late.\n",
        "    \"\"\"\n",
        "    order = arrivals.index(name)\n",
        "    if int(len(arrivals)) % 2 != 0:\n",
        "        return True if len(arrivals)/2 < order and name != arrivals[-1] else False\n",
        "        \n",
        "    elif int(len(arrivals)) % 2 == 0:\n",
        "        return True if (int(len(arrivals))/2 - 1) < order and name != arrivals[-1] else False\n",
        "\n",
        "name = 'Richeal'\n",
        "fashionably_late(['Lisa', 'Ming', 'Johson', 'Jim', 'Share', 'Richeal', 'AA'], name)"
      ],
      "execution_count": 141,
      "outputs": [
        {
          "output_type": "execute_result",
          "data": {
            "text/plain": [
              "True"
            ]
          },
          "metadata": {
            "tags": []
          },
          "execution_count": 141
        }
      ]
    },
    {
      "cell_type": "code",
      "metadata": {
        "colab": {
          "base_uri": "https://localhost:8080/"
        },
        "id": "b6qgPbz3ZjX3",
        "outputId": "2d4695c4-85a7-4874-9580-12fc7b14568e"
      },
      "source": [
        "def fashionably_late(arrivals, name):\n",
        "    \"\"\"Given an ordered list of arrivals to the party and a name, return whether the guest with that\n",
        "    name was fashionably late.\n",
        "    \"\"\"\n",
        "    order = arrivals.index(name)\n",
        "    return True if len(arrivals)/2 <= order and name != arrivals[-1] else False\n",
        "        \n",
        "    \n",
        "        #return True if (int(len(arrivals))/2 - 1) < order and name != arrivals[-1] else False\n",
        "\n",
        "name = 'Johson'\n",
        "fashionably_late(['Lisa', 'Ming', 'Johson', 'Jim', 'Share', 'Richeal'], name)"
      ],
      "execution_count": 149,
      "outputs": [
        {
          "output_type": "execute_result",
          "data": {
            "text/plain": [
              "False"
            ]
          },
          "metadata": {
            "tags": []
          },
          "execution_count": 149
        }
      ]
    },
    {
      "cell_type": "code",
      "metadata": {
        "colab": {
          "base_uri": "https://localhost:8080/"
        },
        "id": "G17nbXlqU4i4",
        "outputId": "34078e4e-ec7f-404f-81bf-d79d543f659a"
      },
      "source": [
        "def fashionably_late(arrivals, name):\n",
        "    order = arrivals.index(name)\n",
        "    return order >= len(arrivals) / 2 and order != len(arrivals) - 1\n",
        "\n",
        "name = 'Share'\n",
        "fashionably_late(['Lisa', 'Ming', 'Johson', 'Jim', 'Share', 'Richeal', 'AA'], name)"
      ],
      "execution_count": 132,
      "outputs": [
        {
          "output_type": "execute_result",
          "data": {
            "text/plain": [
              "True"
            ]
          },
          "metadata": {
            "tags": []
          },
          "execution_count": 132
        }
      ]
    }
  ]
}