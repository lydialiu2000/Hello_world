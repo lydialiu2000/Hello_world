{
  "nbformat": 4,
  "nbformat_minor": 0,
  "metadata": {
    "colab": {
      "name": "Day4.ipynb",
      "provenance": [],
      "authorship_tag": "ABX9TyNrsCPoCv6AHZ0KqwjU04C/",
      "include_colab_link": true
    },
    "kernelspec": {
      "name": "python3",
      "display_name": "Python 3"
    }
  },
  "cells": [
    {
      "cell_type": "markdown",
      "metadata": {
        "id": "view-in-github",
        "colab_type": "text"
      },
      "source": [
        "<a href=\"https://colab.research.google.com/github/lydialiu2000/Hello_world/blob/main/Day4-boolean.ipynb\" target=\"_parent\"><img src=\"https://colab.research.google.com/assets/colab-badge.svg\" alt=\"Open In Colab\"/></a>"
      ]
    },
    {
      "cell_type": "markdown",
      "metadata": {
        "id": "SSLZYB85TV8h"
      },
      "source": [
        "round(num, ndigits)\n",
        "if ndigits is a negative number...\n",
        "\n",
        "reminder %; mod\n"
      ]
    },
    {
      "cell_type": "code",
      "metadata": {
        "colab": {
          "base_uri": "https://localhost:8080/"
        },
        "id": "nPz0HTjFTMFP",
        "outputId": "edf818c3-1eef-458c-88d8-6b039a07d6b4"
      },
      "source": [
        "def round_to_two_places(num, ndigits):\n",
        "    \"\"\"Return the given number rounded to two decimal places. \n",
        "    \n",
        "    >>> round_to_two_places(3.14159)\n",
        "    3.14\n",
        "    \"\"\"\n",
        "    return(round(num, ndigits))\n",
        "\n",
        "num = 3.14159\n",
        "ndigits = 2\n",
        "round_to_two_places(num, ndigits)"
      ],
      "execution_count": 1,
      "outputs": [
        {
          "output_type": "execute_result",
          "data": {
            "text/plain": [
              "3.14"
            ]
          },
          "metadata": {
            "tags": []
          },
          "execution_count": 1
        }
      ]
    },
    {
      "cell_type": "code",
      "metadata": {
        "colab": {
          "base_uri": "https://localhost:8080/"
        },
        "id": "9el-kRM_UXev",
        "outputId": "35383114-ed89-4107-fb8f-5c4375ff37ac"
      },
      "source": [
        "def round_to_two_places(num, ndigits):\n",
        "    \"\"\"Return the given number rounded to two decimal places. \n",
        "    \n",
        "    >>> round_to_two_places(15689.00)\n",
        "    Negative numbers are used for rounding before the decimal place\n",
        "    \"\"\"\n",
        "    return(round(num, ndigits))\n",
        "\n",
        "num = 15689.00\n",
        "ndigits = -2\n",
        "round_to_two_places(num, ndigits)"
      ],
      "execution_count": 2,
      "outputs": [
        {
          "output_type": "execute_result",
          "data": {
            "text/plain": [
              "15700.0"
            ]
          },
          "metadata": {
            "tags": []
          },
          "execution_count": 2
        }
      ]
    },
    {
      "cell_type": "code",
      "metadata": {
        "colab": {
          "base_uri": "https://localhost:8080/"
        },
        "id": "DziA51hGWuOE",
        "outputId": "fcac2236-e818-4d44-a050-e36234911baf"
      },
      "source": [
        "def to_smash(total_candies, frie_nums):\n",
        "    \"\"\"Return the number of leftover candies that must be smashed after distributing\n",
        "    the given number of candies evenly between 3 friends.\n",
        "    \n",
        "    >>> to_smash(91)\n",
        "    1\n",
        "    \"\"\"\n",
        "    \n",
        "    return total_candies % frie_nums\n",
        "\n",
        "\n",
        "to_smash(91, 3)"
      ],
      "execution_count": 3,
      "outputs": [
        {
          "output_type": "execute_result",
          "data": {
            "text/plain": [
              "1"
            ]
          },
          "metadata": {
            "tags": []
          },
          "execution_count": 3
        }
      ]
    },
    {
      "cell_type": "code",
      "metadata": {
        "colab": {
          "base_uri": "https://localhost:8080/"
        },
        "id": "9aZU7FRMZXNb",
        "outputId": "0d137c7a-3b30-4de4-f470-20b9e91e0596"
      },
      "source": [
        "def smallest_abs(x, y):\n",
        "  # # Which of the two variables above has the smallest absolute value?\n",
        "    m = abs(x)\n",
        "    n = abs(y)\n",
        "\n",
        "    return min(m, n)\n",
        "\n",
        "print(smallest_abs(-10, 5))"
      ],
      "execution_count": 4,
      "outputs": [
        {
          "output_type": "stream",
          "text": [
            "5\n"
          ],
          "name": "stdout"
        }
      ]
    },
    {
      "cell_type": "code",
      "metadata": {
        "colab": {
          "base_uri": "https://localhost:8080/"
        },
        "id": "6UxXj0hVZcSL",
        "outputId": "44d5334f-3b92-46ad-e5cf-fc8c7f07ecff"
      },
      "source": [
        "def smallest_abs(x, y):\n",
        " # # Which of the two variables above has the smallest absolute value?\n",
        "  return min(abs(x), abs(y))\n",
        "\n",
        "smallest_abs(-10, 5)"
      ],
      "execution_count": 5,
      "outputs": [
        {
          "output_type": "execute_result",
          "data": {
            "text/plain": [
              "5"
            ]
          },
          "metadata": {
            "tags": []
          },
          "execution_count": 5
        }
      ]
    },
    {
      "cell_type": "code",
      "metadata": {
        "colab": {
          "base_uri": "https://localhost:8080/"
        },
        "id": "deOfjOqVYT7F",
        "outputId": "6263b1ac-09ef-411f-9d01-66b47b49b42a"
      },
      "source": [
        "def to_smash(total_candies):\n",
        "    \"\"\"Return the number of leftover candies that must be smashed after distributing\n",
        "    the given number of candies evenly between 3 friends.\n",
        "    \n",
        "    >>> to_smash(91)\n",
        "    1\n",
        "    \"\"\"\n",
        "    if total_candies > 1:\n",
        "        print(\"Splitting\", total_candies, \"candies\")\n",
        "        return total_candies % 3\n",
        "    else:\n",
        "        print(\"Splitting\", total_candies, \"candy\")\n",
        "        return total_candies % 3\n",
        "\n",
        "to_smash(91)\n",
        "to_smash(1)"
      ],
      "execution_count": 1,
      "outputs": [
        {
          "output_type": "stream",
          "text": [
            "Splitting 91 candies\n",
            "Splitting 1 candy\n"
          ],
          "name": "stdout"
        },
        {
          "output_type": "execute_result",
          "data": {
            "text/plain": [
              "1"
            ]
          },
          "metadata": {
            "tags": []
          },
          "execution_count": 1
        }
      ]
    },
    {
      "cell_type": "code",
      "metadata": {
        "colab": {
          "base_uri": "https://localhost:8080/"
        },
        "id": "NZ1UDN04YV9L",
        "outputId": "d54a5824-869e-46a2-8650-6a4fc22f9180"
      },
      "source": [
        "def to_smash(total_candies):\n",
        "   \"\"\"Return the number of leftover candies that must be smashed after distributing\n",
        "    the given number of candies evenly between 3 friends.\n",
        "    \n",
        "    >>> to_smash(91)\n",
        "    1\n",
        "    \"\"\"\n",
        "  if total_candies > 1:\n",
        "    print(\"Splitting\", total_candies, \"candies\")\n",
        "  else:\n",
        "    print(\"Splitting 1 candy\")\n",
        "  return total_candies % 3\n",
        "\n",
        "to_smash(91)\n",
        "to_smash(1)\n"
      ],
      "execution_count": 3,
      "outputs": [
        {
          "output_type": "stream",
          "text": [
            "Splitting 91 candies\n",
            "Splitting 1 candy\n"
          ],
          "name": "stdout"
        },
        {
          "output_type": "execute_result",
          "data": {
            "text/plain": [
              "1"
            ]
          },
          "metadata": {
            "tags": []
          },
          "execution_count": 3
        }
      ]
    },
    {
      "cell_type": "code",
      "metadata": {
        "colab": {
          "base_uri": "https://localhost:8080/"
        },
        "id": "znsKndUOZd5_",
        "outputId": "f4b1d651-e8d0-41be-e5f9-e36342e99646"
      },
      "source": [
        "def to_smash(total_candies):\n",
        "  \"\"\"Return the number of leftover candies that must be smashed after distributing\n",
        "    the given number of candies evenly between 3 friends.\n",
        "    \n",
        "    >>> to_smash(91)\n",
        "    1\n",
        "    \"\"\"\n",
        "  print(\"Splitting\", total_candies, \"candy\" if total_candies == 1 else \"candies\")\n",
        "  return total_candies % 3\n",
        "\n",
        "to_smash(91)\n",
        "to_smash(1)\n",
        "  "
      ],
      "execution_count": 10,
      "outputs": [
        {
          "output_type": "stream",
          "text": [
            "Splitting 91 candies\n",
            "Splitting 1 candy\n"
          ],
          "name": "stdout"
        },
        {
          "output_type": "execute_result",
          "data": {
            "text/plain": [
              "1"
            ]
          },
          "metadata": {
            "tags": []
          },
          "execution_count": 10
        }
      ]
    },
    {
      "cell_type": "code",
      "metadata": {
        "colab": {
          "base_uri": "https://localhost:8080/"
        },
        "id": "uQbGqLKXmkun",
        "outputId": "b0a02bbd-f98c-4e5c-c013-a445cdb7e101"
      },
      "source": [
        "def concise_is_negative(number):\n",
        "    #it returns True if the given number is negative and False otherwise.\n",
        "    \n",
        "    return True if number < 0 else False\n",
        "\n",
        "concise_is_negative(-1)"
      ],
      "execution_count": 1,
      "outputs": [
        {
          "output_type": "execute_result",
          "data": {
            "text/plain": [
              "True"
            ]
          },
          "metadata": {
            "tags": []
          },
          "execution_count": 1
        }
      ]
    },
    {
      "cell_type": "code",
      "metadata": {
        "colab": {
          "base_uri": "https://localhost:8080/"
        },
        "id": "b3iwa-JDnKNr",
        "outputId": "a50285d5-2165-457b-c183-aacfca578b6b"
      },
      "source": [
        "concise_is_negative(1)"
      ],
      "execution_count": 11,
      "outputs": [
        {
          "output_type": "execute_result",
          "data": {
            "text/plain": [
              "False"
            ]
          },
          "metadata": {
            "tags": []
          },
          "execution_count": 11
        }
      ]
    },
    {
      "cell_type": "code",
      "metadata": {
        "colab": {
          "base_uri": "https://localhost:8080/"
        },
        "id": "IaGoTgsXmpLv",
        "outputId": "f3e6cff0-3bda-4154-b3e6-da04271d1c76"
      },
      "source": [
        "def concise_is_negative(abc):\n",
        "  return(abc < 0)\n",
        "\n",
        "concise_is_negative(1)\n"
      ],
      "execution_count": 9,
      "outputs": [
        {
          "output_type": "execute_result",
          "data": {
            "text/plain": [
              "False"
            ]
          },
          "metadata": {
            "tags": []
          },
          "execution_count": 9
        }
      ]
    },
    {
      "cell_type": "code",
      "metadata": {
        "colab": {
          "base_uri": "https://localhost:8080/"
        },
        "id": "EpG7N0LfnHE0",
        "outputId": "d3e60945-7b1b-4fc2-a763-d2409991abad"
      },
      "source": [
        "concise_is_negative(-1)"
      ],
      "execution_count": 10,
      "outputs": [
        {
          "output_type": "execute_result",
          "data": {
            "text/plain": [
              "True"
            ]
          },
          "metadata": {
            "tags": []
          },
          "execution_count": 10
        }
      ]
    },
    {
      "cell_type": "code",
      "metadata": {
        "colab": {
          "base_uri": "https://localhost:8080/"
        },
        "id": "Qco8-FkUslkt",
        "outputId": "5b033e6d-6e2f-43c9-e002-4bd30ec883b9"
      },
      "source": [
        "int(\"0x12f\", base =16)"
      ],
      "execution_count": 20,
      "outputs": [
        {
          "output_type": "execute_result",
          "data": {
            "text/plain": [
              "303"
            ]
          },
          "metadata": {
            "tags": []
          },
          "execution_count": 20
        }
      ]
    },
    {
      "cell_type": "code",
      "metadata": {
        "colab": {
          "base_uri": "https://localhost:8080/"
        },
        "id": "MKngCc9abr_h",
        "outputId": "17a005f7-8d72-4bfc-f695-a04a3a634e55"
      },
      "source": [
        "int(True)\n"
      ],
      "execution_count": 10,
      "outputs": [
        {
          "output_type": "execute_result",
          "data": {
            "text/plain": [
              "1"
            ]
          },
          "metadata": {
            "tags": []
          },
          "execution_count": 10
        }
      ]
    },
    {
      "cell_type": "code",
      "metadata": {
        "colab": {
          "base_uri": "https://localhost:8080/"
        },
        "id": "Z3M0FVl4bzm-",
        "outputId": "eb56df3e-1932-4d16-ff3d-e4d97e5d8c5a"
      },
      "source": [
        "int(False)"
      ],
      "execution_count": 9,
      "outputs": [
        {
          "output_type": "execute_result",
          "data": {
            "text/plain": [
              "0"
            ]
          },
          "metadata": {
            "tags": []
          },
          "execution_count": 9
        }
      ]
    },
    {
      "cell_type": "code",
      "metadata": {
        "colab": {
          "base_uri": "https://localhost:8080/"
        },
        "id": "rRBSZ93pcM2V",
        "outputId": "5462c6de-8b3f-492b-91df-c1f7509a794d"
      },
      "source": [
        "def bool_varia(mustard):\n",
        "  return bool(mustard)\n",
        "  \n",
        "bool_varia(1)\n"
      ],
      "execution_count": 29,
      "outputs": [
        {
          "output_type": "execute_result",
          "data": {
            "text/plain": [
              "True"
            ]
          },
          "metadata": {
            "tags": []
          },
          "execution_count": 29
        }
      ]
    },
    {
      "cell_type": "code",
      "metadata": {
        "id": "PQPfxvv3aQp0"
      },
      "source": [
        "def wantsalltoppings(mustard, ketchup, onion):\n",
        "  return mustard and ketchup and onion\n",
        "  pass"
      ],
      "execution_count": 4,
      "outputs": []
    },
    {
      "cell_type": "code",
      "metadata": {
        "id": "q4OyTxFHbXh-"
      },
      "source": [
        "def exactly_one_topping(mustard, ketchup, onion):\n",
        "  return int(mustard) + int(ketchup) + int(onion) == 1\n",
        "  "
      ],
      "execution_count": 6,
      "outputs": []
    }
  ]
}