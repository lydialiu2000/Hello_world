{
  "nbformat": 4,
  "nbformat_minor": 0,
  "metadata": {
    "colab": {
      "name": "Day3.ipynb",
      "provenance": [],
      "authorship_tag": "ABX9TyOg+lviEU34UId9c0RwQPGb",
      "include_colab_link": true
    },
    "kernelspec": {
      "name": "python3",
      "display_name": "Python 3"
    }
  },
  "cells": [
    {
      "cell_type": "markdown",
      "metadata": {
        "id": "view-in-github",
        "colab_type": "text"
      },
      "source": [
        "<a href=\"https://colab.research.google.com/github/lydialiu2000/Hello_world/blob/main/Day3-two%20sum.ipynb\" target=\"_parent\"><img src=\"https://colab.research.google.com/assets/colab-badge.svg\" alt=\"Open In Colab\"/></a>"
      ]
    },
    {
      "cell_type": "code",
      "metadata": {
        "colab": {
          "base_uri": "https://localhost:8080/"
        },
        "id": "qPa4NIF3K68Q",
        "outputId": "810adc34-fc25-479a-b298-0a9dbabf00db"
      },
      "source": [
        "spam_amount = 0\n",
        "print(spam_amount)\n",
        "\n"
      ],
      "execution_count": 4,
      "outputs": [
        {
          "output_type": "stream",
          "text": [
            "0\n"
          ],
          "name": "stdout"
        }
      ]
    },
    {
      "cell_type": "code",
      "metadata": {
        "colab": {
          "base_uri": "https://localhost:8080/"
        },
        "id": "6Yvl4HemLUWh",
        "outputId": "987e45f3-7d5d-457c-8310-ca58f401c435"
      },
      "source": [
        "spam_amount = spam_amount + 4\n",
        "print(spam_amount)"
      ],
      "execution_count": 5,
      "outputs": [
        {
          "output_type": "stream",
          "text": [
            "4\n"
          ],
          "name": "stdout"
        }
      ]
    },
    {
      "cell_type": "code",
      "metadata": {
        "colab": {
          "base_uri": "https://localhost:8080/"
        },
        "id": "FQB50H5KLube",
        "outputId": "8000b18b-f5d2-4562-9e56-66b97807fdf2"
      },
      "source": [
        "7 + 8 -5"
      ],
      "execution_count": 6,
      "outputs": [
        {
          "output_type": "execute_result",
          "data": {
            "text/plain": [
              "10"
            ]
          },
          "metadata": {
            "tags": []
          },
          "execution_count": 6
        }
      ]
    },
    {
      "cell_type": "code",
      "metadata": {
        "colab": {
          "base_uri": "https://localhost:8080/"
        },
        "id": "_lAp1kaFL1Cq",
        "outputId": "26d3e303-0bd5-4b02-f344-749c81c38e49"
      },
      "source": [
        "-3 + 8 * 9"
      ],
      "execution_count": 7,
      "outputs": [
        {
          "output_type": "execute_result",
          "data": {
            "text/plain": [
              "69"
            ]
          },
          "metadata": {
            "tags": []
          },
          "execution_count": 7
        }
      ]
    },
    {
      "cell_type": "code",
      "metadata": {
        "colab": {
          "base_uri": "https://localhost:8080/"
        },
        "id": "5LzOsH_CMQYs",
        "outputId": "d7ded516-02a0-40bf-9ef2-7a4ae96fdb8a"
      },
      "source": [
        "hat_height_cm = 25\n",
        "my_height_cm = 163\n",
        "total_height_m = (hat_height_cm + my_height_cm) / 100\n",
        "print(total_height_m)\n"
      ],
      "execution_count": 10,
      "outputs": [
        {
          "output_type": "stream",
          "text": [
            "1.88\n"
          ],
          "name": "stdout"
        }
      ]
    },
    {
      "cell_type": "code",
      "metadata": {
        "colab": {
          "base_uri": "https://localhost:8080/"
        },
        "id": "fTfIp6NrPXel",
        "outputId": "a5fbb17c-5f3c-4e30-dfea-5b8a4b22baa1"
      },
      "source": [
        "def least_difference(a, b, c):\n",
        "  \"\"\"Return the smallest difference between any two numbers among a, b and c.\n",
        "\n",
        "  >>> least_difference(1, 5, -5)\n",
        "  4\n",
        "  \"\"\"\n",
        "  diff1 = abs(a - b)\n",
        "  diff2 = abs(b - c)\n",
        "  diff3 = abs(a - c)\n",
        "  return min(diff1, diff2, diff3)\n",
        "\n",
        "print(\n",
        "    least_difference(5, 8, 9),\n",
        "    least_difference(19, 12, 50),\n",
        "    least_difference(1, 2, 3),\n",
        "    sep = \"\\n\"\n",
        ")\n"
      ],
      "execution_count": 61,
      "outputs": [
        {
          "output_type": "stream",
          "text": [
            "1\n",
            "7\n",
            "1\n"
          ],
          "name": "stdout"
        }
      ]
    },
    {
      "cell_type": "code",
      "metadata": {
        "colab": {
          "base_uri": "https://localhost:8080/"
        },
        "id": "P78LKbLdQChR",
        "outputId": "b6143a24-6c42-4d3f-98c3-c43574d52c41"
      },
      "source": [
        "def least_difference(a, b, c):\n",
        "  \"\"\"just want to compare the return() and print() in def\n",
        "  between this example with the exmaple above \n",
        "  \"\"\"\n",
        "  \n",
        "  diff1 = abs(a - b)\n",
        "  diff2 = abs(b - c)\n",
        "  diff3 = abs(a - c)\n",
        "  print(min(diff1, diff2, diff3))\n",
        "\n",
        "least_difference(5, 6, 2)"
      ],
      "execution_count": 44,
      "outputs": [
        {
          "output_type": "stream",
          "text": [
            "1\n"
          ],
          "name": "stdout"
        }
      ]
    },
    {
      "cell_type": "code",
      "metadata": {
        "colab": {
          "base_uri": "https://localhost:8080/"
        },
        "id": "C97NDgRrarY-",
        "outputId": "4452b05c-5d69-4d1f-a23c-1d2224781202"
      },
      "source": [
        "def least_difference(a, b, c):\n",
        "  \n",
        "  diff1 = abs(a - b)\n",
        "  diff2 = abs(b - c)\n",
        "  diff3 = abs(a - c)\n",
        "  return min(diff1, diff2, diff3)\n",
        "\n",
        "least_difference(5, 6, 2)"
      ],
      "execution_count": 45,
      "outputs": [
        {
          "output_type": "execute_result",
          "data": {
            "text/plain": [
              "1"
            ]
          },
          "metadata": {
            "tags": []
          },
          "execution_count": 45
        }
      ]
    },
    {
      "cell_type": "code",
      "metadata": {
        "colab": {
          "base_uri": "https://localhost:8080/"
        },
        "id": "sN3VQHv1go5Y",
        "outputId": "06ae0cb5-a14c-4636-e4f6-16c9187ae8df"
      },
      "source": [
        "def least_difference(a, b, c):\n",
        "  \"\"\" Return the smallest difference between any two numbers\n",
        "  among a, b and c.\n",
        "  \"\"\"\n",
        "  diff1 = abs(a - b)\n",
        "  diff2 = abs(b - c)\n",
        "  diff3 = abs(a - c)\n",
        "  min(diff1, diff2, diff3)\n",
        "\n",
        "print(\n",
        "    least_difference(5, 10, 12),\n",
        "    least_difference(6, 41, 23),\n",
        "    least_difference(5, 23, 1),\n",
        "    sep = '\\n'\n",
        ")"
      ],
      "execution_count": 65,
      "outputs": [
        {
          "output_type": "stream",
          "text": [
            "None\n",
            "None\n",
            "None\n"
          ],
          "name": "stdout"
        }
      ]
    },
    {
      "cell_type": "code",
      "metadata": {
        "colab": {
          "base_uri": "https://localhost:8080/"
        },
        "id": "1dD5pPp1kumm",
        "outputId": "4da097e3-092a-48d6-c9b7-74bcd5c87d80"
      },
      "source": [
        "def least_difference(a, b, c):\n",
        "  \"\"\" Return the smallest difference between any two numbers\n",
        "  among a, b and c.\n",
        "  \"\"\"\n",
        "  diff1 = abs(a - b)\n",
        "  diff2 = abs(b - c)\n",
        "  diff3 = abs(a - c)\n",
        "  print(min(diff1, diff2, diff3))\n",
        "\n",
        "least_difference(5, 10, 12)\n",
        "least_difference(6, 41, 23)\n",
        "least_difference(5, 23, 1)\n",
        "   "
      ],
      "execution_count": 68,
      "outputs": [
        {
          "output_type": "stream",
          "text": [
            "2\n",
            "17\n",
            "4\n"
          ],
          "name": "stdout"
        }
      ]
    },
    {
      "cell_type": "code",
      "metadata": {
        "colab": {
          "base_uri": "https://localhost:8080/"
        },
        "id": "4lwQtHgRkU2F",
        "outputId": "8b6c5227-e72c-45bf-ee3e-67bd9ad9bc4d"
      },
      "source": [
        "mystery = print()\n",
        "print(mystery)"
      ],
      "execution_count": 66,
      "outputs": [
        {
          "output_type": "stream",
          "text": [
            "\n",
            "None\n"
          ],
          "name": "stdout"
        }
      ]
    },
    {
      "cell_type": "code",
      "metadata": {
        "colab": {
          "base_uri": "https://localhost:8080/"
        },
        "id": "pyy9dBNpXWOp",
        "outputId": "4a0d352c-7fdf-4206-ba31-bc77f42449eb"
      },
      "source": [
        "def greet(who):\n",
        "  name1 = who\n",
        "  print(\"Hello, \", name1)\n",
        "\n",
        "greet(\"Colin\")\n",
        "greet(\"Kaggle\")\n",
        "greet(\"World\")\n",
        "#greet(who = \"Kaggle\")\n",
        "#greet(who = \"World\")"
      ],
      "execution_count": 39,
      "outputs": [
        {
          "output_type": "stream",
          "text": [
            "Hello,  Colin\n",
            "Hello,  Kaggle\n",
            "Hello,  World\n"
          ],
          "name": "stdout"
        }
      ]
    },
    {
      "cell_type": "code",
      "metadata": {
        "colab": {
          "base_uri": "https://localhost:8080/"
        },
        "id": "n3eVFMhgaLiS",
        "outputId": "3dc09522-e9b6-4970-962e-9ebcd1dff11c"
      },
      "source": [
        "def greet(who):\n",
        "  \n",
        "  print(\"Hello, \", who)\n",
        "\n",
        "greet(\"Colin\")\n",
        "greet(\"Kaggle\")\n",
        "greet(\"World\")\n",
        "#greet(who = \"Kaggle\")\n",
        "#greet(who = \"World\")"
      ],
      "execution_count": 40,
      "outputs": [
        {
          "output_type": "stream",
          "text": [
            "Hello,  Colin\n",
            "Hello,  Kaggle\n",
            "Hello,  World\n"
          ],
          "name": "stdout"
        }
      ]
    },
    {
      "cell_type": "code",
      "metadata": {
        "colab": {
          "base_uri": "https://localhost:8080/"
        },
        "id": "pLxNwtA-ZdTY",
        "outputId": "ed6a101a-cbb2-4ba9-daa9-3542916067f6"
      },
      "source": [
        "def greet(who=\"Colin\"):\n",
        "  print(\"Hello, \", who)\n",
        "\n",
        "greet()\n",
        "greet(who=\"Kaggle\")\n",
        "greet(who=\"World\")"
      ],
      "execution_count": 41,
      "outputs": [
        {
          "output_type": "stream",
          "text": [
            "Hello,  Colin\n",
            "Hello,  Kaggle\n",
            "Hello,  World\n"
          ],
          "name": "stdout"
        }
      ]
    },
    {
      "cell_type": "code",
      "metadata": {
        "colab": {
          "base_uri": "https://localhost:8080/"
        },
        "id": "xDPKKBIWbd1O",
        "outputId": "325e9c2e-5a48-489b-9bc9-2341ab7c05ed"
      },
      "source": [
        "def mult_by_five(x):\n",
        "  return 5 * x\n",
        "\n",
        "def call(fn, arg):\n",
        "  return fn(arg)\n",
        "\n",
        "def squared_call(fn, arg):\n",
        "  return fn(fn(arg))\n",
        "\n",
        "print(\n",
        "    call(mult_by_five, 1),\n",
        "    squared_call(mult_by_five, 1),\n",
        "    sep=\"\\n\"\n",
        ")"
      ],
      "execution_count": 51,
      "outputs": [
        {
          "output_type": "stream",
          "text": [
            "5\n",
            "25\n"
          ],
          "name": "stdout"
        }
      ]
    },
    {
      "cell_type": "code",
      "metadata": {
        "id": "TVfStxXB-9V9"
      },
      "source": [
        "class Solution:\n",
        "    def twoSum(self, nums, target):\n",
        "      \"\"\"\n",
        "        #nums = List[int]\n",
        "        #target = int\n",
        "      \"\"\"\n",
        "      prevMap = {} # val : index\n",
        "        \n",
        "      for i, n in enumerate(nums):\n",
        "            diff = target - n\n",
        "            if diff in prevMap:\n",
        "                return [prevMap[diff], i]\n",
        "            prevMap[n] = i\n",
        "\n",
        "#twoSum = ([2, 3, 6, 7], 5)    \n"
      ],
      "execution_count": 73,
      "outputs": []
    },
    {
      "cell_type": "code",
      "metadata": {
        "id": "xluKwg7PXNWF"
      },
      "source": [
        "def twoSum(nums, target):\n",
        "  \"\"\"\n",
        "    TWO SUM ISSUE\n",
        "    nums = List[int]\n",
        "    target = int\n",
        "  \"\"\"\n",
        "  prevMap = {} # val : index\n",
        "    \n",
        "  for i, n in enumerate(nums):\n",
        "      diff = target - n\n",
        "      if diff in prevMap:\n",
        "            return [prevMap[diff], i]\n",
        "      prevMap[n] = i\n",
        "  return\n",
        "#twoSum = ([2, 3, 6, 7], 5)    \n"
      ],
      "execution_count": 82,
      "outputs": []
    },
    {
      "cell_type": "code",
      "metadata": {
        "colab": {
          "base_uri": "https://localhost:8080/"
        },
        "id": "FH6MIXeFQvP7",
        "outputId": "5ea47329-9796-49df-fd33-5b26ab117fec"
      },
      "source": [
        "number = [2, 3, 6, 7]\n",
        "target1 = 5\n",
        "twoSum(number, target1)\n",
        "# a = Solution\n",
        "# a.twoSum(number, target1)"
      ],
      "execution_count": 83,
      "outputs": [
        {
          "output_type": "execute_result",
          "data": {
            "text/plain": [
              "[0, 1]"
            ]
          },
          "metadata": {
            "tags": []
          },
          "execution_count": 83
        }
      ]
    },
    {
      "cell_type": "code",
      "metadata": {
        "colab": {
          "base_uri": "https://localhost:8080/"
        },
        "id": "gn9r5C7OZPkg",
        "outputId": "cd752f94-c60a-4c78-849d-55e6ac7524b0"
      },
      "source": [
        "twoSum([2, 3, 6, 7], 5)"
      ],
      "execution_count": 84,
      "outputs": [
        {
          "output_type": "execute_result",
          "data": {
            "text/plain": [
              "[0, 1]"
            ]
          },
          "metadata": {
            "tags": []
          },
          "execution_count": 84
        }
      ]
    }
  ]
}