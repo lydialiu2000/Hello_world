{
  "nbformat": 4,
  "nbformat_minor": 0,
  "metadata": {
    "colab": {
      "name": "Day8_W3school_string.ipynb",
      "provenance": [],
      "authorship_tag": "ABX9TyOl0uzg/xr1Wu5lDSLXvnFs",
      "include_colab_link": true
    },
    "kernelspec": {
      "name": "python3",
      "display_name": "Python 3"
    },
    "language_info": {
      "name": "python"
    }
  },
  "cells": [
    {
      "cell_type": "markdown",
      "metadata": {
        "id": "view-in-github",
        "colab_type": "text"
      },
      "source": [
        "<a href=\"https://colab.research.google.com/github/lydialiu2000/Hello_world/blob/main/Day8_W3school_string.ipynb\" target=\"_parent\"><img src=\"https://colab.research.google.com/assets/colab-badge.svg\" alt=\"Open In Colab\"/></a>"
      ]
    },
    {
      "cell_type": "code",
      "metadata": {
        "colab": {
          "base_uri": "https://localhost:8080/"
        },
        "id": "IU6k0hr3GBnz",
        "outputId": "f66f72ee-95b3-43bb-a807-7ecf060c44da"
      },
      "source": [
        "#format\n",
        "txt = \"For only {price:.2f} dollars!\"\n",
        "print(txt.format(price = 49))"
      ],
      "execution_count": 1,
      "outputs": [
        {
          "output_type": "stream",
          "text": [
            "For only 49.00 dollars!\n"
          ],
          "name": "stdout"
        }
      ]
    },
    {
      "cell_type": "code",
      "metadata": {
        "colab": {
          "base_uri": "https://localhost:8080/"
        },
        "id": "W1V1BN4hUh-k",
        "outputId": "8338bcc9-a1a2-49a5-8983-0201286da6f7"
      },
      "source": [
        "txt1 = \"My name is {:>8}, I'm {}\".format(\"Joe\", 5)\n",
        "print(txt1)"
      ],
      "execution_count": 11,
      "outputs": [
        {
          "output_type": "stream",
          "text": [
            "My name is      Joe, I'm 5\n"
          ],
          "name": "stdout"
        }
      ]
    },
    {
      "cell_type": "code",
      "metadata": {
        "colab": {
          "base_uri": "https://localhost:8080/"
        },
        "id": "HF7R5DKZsevK",
        "outputId": "be593772-d651-4ed2-8de9-cd3a4216236c"
      },
      "source": [
        "txt2 = \"My name is {fname:>8}, I'm {age}\".format(fname = \"Joe\", age = 5)\n",
        "print(txt2)"
      ],
      "execution_count": 14,
      "outputs": [
        {
          "output_type": "stream",
          "text": [
            "My name is      Joe, I'm 5\n"
          ],
          "name": "stdout"
        }
      ]
    },
    {
      "cell_type": "code",
      "metadata": {
        "colab": {
          "base_uri": "https://localhost:8080/"
        },
        "id": "U5CuTo-GZFZW",
        "outputId": "236788e3-afb5-446d-97de-4a99d9f0f1f7"
      },
      "source": [
        "txt1 = \"We have {:<8} chickens.\"\n",
        "print(txt1.format(49))"
      ],
      "execution_count": 5,
      "outputs": [
        {
          "output_type": "stream",
          "text": [
            "We have 49       chickens.\n"
          ],
          "name": "stdout"
        }
      ]
    },
    {
      "cell_type": "code",
      "metadata": {
        "colab": {
          "base_uri": "https://localhost:8080/"
        },
        "id": "4WZjiYeXsyT4",
        "outputId": "65e79210-3d8a-4a96-cba0-b0e1c57d70f3"
      },
      "source": [
        "txt = \"The temperature is {:=8} degrees celsius.\"\n",
        "print(txt.format(-5))"
      ],
      "execution_count": 17,
      "outputs": [
        {
          "output_type": "stream",
          "text": [
            "The temperature is -      5 degrees celsius.\n"
          ],
          "name": "stdout"
        }
      ]
    },
    {
      "cell_type": "code",
      "metadata": {
        "colab": {
          "base_uri": "https://localhost:8080/"
        },
        "id": "CBPcRFpotPC-",
        "outputId": "85af62cd-6bfb-4412-b179-035a0112e0e7"
      },
      "source": [
        "txt = \"The temperature is between {:+} and {:+} degrees celsius.\"\n",
        "print(txt.format(-3, 7))"
      ],
      "execution_count": 18,
      "outputs": [
        {
          "output_type": "stream",
          "text": [
            "The temperature is between -3 and +7 degrees celsius.\n"
          ],
          "name": "stdout"
        }
      ]
    },
    {
      "cell_type": "code",
      "metadata": {
        "colab": {
          "base_uri": "https://localhost:8080/"
        },
        "id": "ylRapMEctjoD",
        "outputId": "604d5634-4e2f-4286-d54f-15237130f427"
      },
      "source": [
        "txt = \"The tempreture is between {:-} and {:-} degrees celsius.\"\n",
        "print(txt.format(-3, 7))"
      ],
      "execution_count": 20,
      "outputs": [
        {
          "output_type": "stream",
          "text": [
            "The tempreture is between -3 and 7 degrees celsius.\n"
          ],
          "name": "stdout"
        }
      ]
    },
    {
      "cell_type": "code",
      "metadata": {
        "colab": {
          "base_uri": "https://localhost:8080/"
        },
        "id": "dTtlhy4-t-Zv",
        "outputId": "3a16a1f3-bebb-4459-9e00-526b9b8edaa9"
      },
      "source": [
        "txt = \"The tempreture is between {:} and {:,} degrees celsius.\"\n",
        "print(txt.format(-3,70000))"
      ],
      "execution_count": 25,
      "outputs": [
        {
          "output_type": "stream",
          "text": [
            "The tempreture is between -3 and 70,000 degrees celsius.\n"
          ],
          "name": "stdout"
        }
      ]
    },
    {
      "cell_type": "code",
      "metadata": {
        "colab": {
          "base_uri": "https://localhost:8080/"
        },
        "id": "S8ZS3fEIuZnR",
        "outputId": "e6898cfb-b2e1-4871-88a7-2ae7dd3c4015"
      },
      "source": [
        "txt = \"The tempreture is between {:_} and {:_} degrees celsius.\"\n",
        "print(txt.format(-30000, 700000))"
      ],
      "execution_count": 26,
      "outputs": [
        {
          "output_type": "stream",
          "text": [
            "The tempreture is between -30_000 and 700_000 degrees celsius.\n"
          ],
          "name": "stdout"
        }
      ]
    },
    {
      "cell_type": "code",
      "metadata": {
        "colab": {
          "base_uri": "https://localhost:8080/"
        },
        "id": "Q0qPWLsNu3AL",
        "outputId": "4d28612b-25df-4d29-f360-bce57ac4c2ce"
      },
      "source": [
        "x = float('inf')\n",
        "txt = \"The pric is {:F} dollars.\"\n",
        "print(txt.format(x))\n",
        "\n",
        "txt = \"The price is {:f} dollars.\"\n",
        "print(txt.format(x))"
      ],
      "execution_count": 30,
      "outputs": [
        {
          "output_type": "stream",
          "text": [
            "The pric is INF dollars.\n",
            "The price is inf dollars.\n"
          ],
          "name": "stdout"
        }
      ]
    },
    {
      "cell_type": "code",
      "metadata": {
        "colab": {
          "base_uri": "https://localhost:8080/"
        },
        "id": "_pUFfrgDvDX4",
        "outputId": "54598a53-4fc1-4742-c8ef-26c9c3d99758"
      },
      "source": [
        "txt = \"You scored {:%}\"\n",
        "print(txt.format(0.25))\n"
      ],
      "execution_count": 31,
      "outputs": [
        {
          "output_type": "stream",
          "text": [
            "You scored 25.000000%\n"
          ],
          "name": "stdout"
        }
      ]
    },
    {
      "cell_type": "code",
      "metadata": {
        "colab": {
          "base_uri": "https://localhost:8080/"
        },
        "id": "ivzVCtH3wHbE",
        "outputId": "0d9e6439-5cf5-4656-b96a-a4a2d7f8ec19"
      },
      "source": [
        "txt = \"You scored {:.000%}\"\n",
        "print(txt.format(0.25))"
      ],
      "execution_count": 36,
      "outputs": [
        {
          "output_type": "stream",
          "text": [
            "You scored 25%\n"
          ],
          "name": "stdout"
        }
      ]
    },
    {
      "cell_type": "code",
      "metadata": {
        "colab": {
          "base_uri": "https://localhost:8080/"
        },
        "id": "hESOkMaAxzzV",
        "outputId": "b3d7460f-893b-43d8-b669-4286f6cc52b5"
      },
      "source": [
        "txt = \"  Hello, world.\"\n",
        "x = txt.strip()\n",
        "print(x)"
      ],
      "execution_count": 39,
      "outputs": [
        {
          "output_type": "stream",
          "text": [
            "Hello, world.\n"
          ],
          "name": "stdout"
        }
      ]
    },
    {
      "cell_type": "code",
      "metadata": {
        "colab": {
          "base_uri": "https://localhost:8080/"
        },
        "id": "z2Z4zpdfyPBK",
        "outputId": "49d704e1-9638-4298-e96d-51ce1bc15b7b"
      },
      "source": [
        "thislist = [\"apple\", \"banana\", \"cherry\"]\n",
        "print(len(thislist))"
      ],
      "execution_count": 42,
      "outputs": [
        {
          "output_type": "stream",
          "text": [
            "3\n"
          ],
          "name": "stdout"
        }
      ]
    },
    {
      "cell_type": "code",
      "metadata": {
        "colab": {
          "base_uri": "https://localhost:8080/"
        },
        "id": "xorD39UD1C5M",
        "outputId": "7c499171-b04b-4ea4-c1cd-990cc29516f4"
      },
      "source": [
        "list1 = [\"apple\", \"banana\", \"cherry\"]\n",
        "list2 = [1, 5, 7, 9, 3]\n",
        "list3 = [True, False, False]\n",
        "\n",
        "print(list1, list2, list3)"
      ],
      "execution_count": 43,
      "outputs": [
        {
          "output_type": "stream",
          "text": [
            "['apple', 'banana', 'cherry'] [1, 5, 7, 9, 3] [True, False, False]\n"
          ],
          "name": "stdout"
        }
      ]
    },
    {
      "cell_type": "code",
      "metadata": {
        "colab": {
          "base_uri": "https://localhost:8080/"
        },
        "id": "9jHSA-Kn3Dlg",
        "outputId": "d1895453-5747-48c8-c2ba-0e65ccb44313"
      },
      "source": [
        "thislist = [\"apple\", \"banana\", \"cherry\", \"orange\"]\n",
        "thislist[1:3] =[\"blackcurrant\"]\n",
        "print(thislist)"
      ],
      "execution_count": 52,
      "outputs": [
        {
          "output_type": "stream",
          "text": [
            "['apple', 'blackcurrant', 'orange']\n"
          ],
          "name": "stdout"
        }
      ]
    },
    {
      "cell_type": "code",
      "metadata": {
        "colab": {
          "base_uri": "https://localhost:8080/"
        },
        "id": "p8ZHLe_278ao",
        "outputId": "468e92b9-e3f5-40c9-b563-81b79920aaee"
      },
      "source": [
        "# extend()\n",
        "thislist = [\"apple\", \"banana\", \"cherry\"]\n",
        "thistuple = (\"kiwi\", \"orange\")\n",
        "thislist.extend(thistuple)\n",
        "print(thislist)"
      ],
      "execution_count": 53,
      "outputs": [
        {
          "output_type": "stream",
          "text": [
            "['apple', 'banana', 'cherry', 'kiwi', 'orange']\n"
          ],
          "name": "stdout"
        }
      ]
    },
    {
      "cell_type": "code",
      "metadata": {
        "colab": {
          "base_uri": "https://localhost:8080/"
        },
        "id": "vV3a6dK580OS",
        "outputId": "80eaff4c-f1bf-4079-c702-e243e4d25377"
      },
      "source": [
        "thislist = [\"apple\", \"banana\", \"cherry\"]\n",
        "thisdic = {\"kiwi\":4, \"orange\":5}\n",
        "thislist.extend(thisdic)\n",
        "print(thislist)"
      ],
      "execution_count": 55,
      "outputs": [
        {
          "output_type": "stream",
          "text": [
            "['apple', 'banana', 'cherry', 'kiwi', 'orange']\n"
          ],
          "name": "stdout"
        }
      ]
    },
    {
      "cell_type": "code",
      "metadata": {
        "colab": {
          "base_uri": "https://localhost:8080/"
        },
        "id": "lgeOUZai8pKL",
        "outputId": "c2907892-aff2-4421-86bb-f5128b2a0e9d"
      },
      "source": [
        "thislist = [\"apple\", \"banana\", \"cherry\"]\n",
        "thisset = {\"kiwi\", \"orange\"}\n",
        "thislist.extend(thisset)\n",
        "print(thislist)"
      ],
      "execution_count": 54,
      "outputs": [
        {
          "output_type": "stream",
          "text": [
            "['apple', 'banana', 'cherry', 'orange', 'kiwi']\n"
          ],
          "name": "stdout"
        }
      ]
    },
    {
      "cell_type": "code",
      "metadata": {
        "colab": {
          "base_uri": "https://localhost:8080/",
          "height": 198
        },
        "id": "7txdWRo8CNwZ",
        "outputId": "2746caae-86af-477b-8257-2fc2172f4a36"
      },
      "source": [
        "#remove list items\n",
        "thislist = [\"apple\", \"banana\", \"cherry\"]\n",
        "del thislist\n",
        "print(thislist)"
      ],
      "execution_count": 58,
      "outputs": [
        {
          "output_type": "error",
          "ename": "NameError",
          "evalue": "ignored",
          "traceback": [
            "\u001b[0;31m---------------------------------------------------------------------------\u001b[0m",
            "\u001b[0;31mNameError\u001b[0m                                 Traceback (most recent call last)",
            "\u001b[0;32m<ipython-input-58-a07307544f9a>\u001b[0m in \u001b[0;36m<module>\u001b[0;34m()\u001b[0m\n\u001b[1;32m      2\u001b[0m \u001b[0mthislist\u001b[0m \u001b[0;34m=\u001b[0m \u001b[0;34m[\u001b[0m\u001b[0;34m\"apple\"\u001b[0m\u001b[0;34m,\u001b[0m \u001b[0;34m\"banana\"\u001b[0m\u001b[0;34m,\u001b[0m \u001b[0;34m\"cherry\"\u001b[0m\u001b[0;34m]\u001b[0m\u001b[0;34m\u001b[0m\u001b[0;34m\u001b[0m\u001b[0m\n\u001b[1;32m      3\u001b[0m \u001b[0;32mdel\u001b[0m \u001b[0mthislist\u001b[0m\u001b[0;34m\u001b[0m\u001b[0;34m\u001b[0m\u001b[0m\n\u001b[0;32m----> 4\u001b[0;31m \u001b[0mprint\u001b[0m\u001b[0;34m(\u001b[0m\u001b[0mthislist\u001b[0m\u001b[0;34m)\u001b[0m\u001b[0;34m\u001b[0m\u001b[0;34m\u001b[0m\u001b[0m\n\u001b[0m",
            "\u001b[0;31mNameError\u001b[0m: name 'thislist' is not defined"
          ]
        }
      ]
    },
    {
      "cell_type": "code",
      "metadata": {
        "colab": {
          "base_uri": "https://localhost:8080/"
        },
        "id": "HZ2MyyifCmzT",
        "outputId": "76482bab-beb5-492b-8569-0d2c6b71d7df"
      },
      "source": [
        "thislist = [\"apple\", \"banana\", \"cherry\"]\n",
        "thislist.clear()\n",
        "print(thislist)"
      ],
      "execution_count": 59,
      "outputs": [
        {
          "output_type": "stream",
          "text": [
            "[]\n"
          ],
          "name": "stdout"
        }
      ]
    },
    {
      "cell_type": "code",
      "metadata": {
        "colab": {
          "base_uri": "https://localhost:8080/"
        },
        "id": "l3hu0uz3DDwx",
        "outputId": "373d5814-3ee7-49b5-ecc5-71b5f469dec0"
      },
      "source": [
        "#Loop lists\n",
        "thislist = [\"apple\", \"banana\", \"cherry\"]\n",
        "for x in thislist:\n",
        "  print(x)"
      ],
      "execution_count": 60,
      "outputs": [
        {
          "output_type": "stream",
          "text": [
            "apple\n",
            "banana\n",
            "cherry\n"
          ],
          "name": "stdout"
        }
      ]
    },
    {
      "cell_type": "code",
      "metadata": {
        "colab": {
          "base_uri": "https://localhost:8080/"
        },
        "id": "94NUmNWbDSWn",
        "outputId": "0d890b6d-f587-4a32-f0a5-e3773713e8ae"
      },
      "source": [
        "thislist = [\"apple\", \"banana\", \"cherry\"]\n",
        "for i in range(len(thislist)):\n",
        "  print(thislist[i])"
      ],
      "execution_count": 62,
      "outputs": [
        {
          "output_type": "stream",
          "text": [
            "apple\n",
            "banana\n",
            "cherry\n"
          ],
          "name": "stdout"
        }
      ]
    },
    {
      "cell_type": "code",
      "metadata": {
        "colab": {
          "base_uri": "https://localhost:8080/"
        },
        "id": "tN9BzgpiEfMV",
        "outputId": "d9165847-8bd3-4571-a6ff-078bdf4a61ef"
      },
      "source": [
        "thislist = [\"banana\", \"apple\", \"cherry\"]\n",
        "i = 0\n",
        "while i < len(thislist):\n",
        "  print(thislist[i])\n",
        "  i = i + 1\n",
        "  "
      ],
      "execution_count": 64,
      "outputs": [
        {
          "output_type": "stream",
          "text": [
            "banana\n",
            "apple\n",
            "cherry\n"
          ],
          "name": "stdout"
        }
      ]
    },
    {
      "cell_type": "code",
      "metadata": {
        "colab": {
          "base_uri": "https://localhost:8080/"
        },
        "id": "LOsodpcdFOOE",
        "outputId": "57443b1b-ca74-417f-ac79-e5804503bb9d"
      },
      "source": [
        "thislist = [\"apple\", \"banana\", \"cherry\"]\n",
        "[print(x) for x in thislist]"
      ],
      "execution_count": 67,
      "outputs": [
        {
          "output_type": "stream",
          "text": [
            "apple\n",
            "banana\n",
            "cherry\n"
          ],
          "name": "stdout"
        },
        {
          "output_type": "execute_result",
          "data": {
            "text/plain": [
              "[None, None, None]"
            ]
          },
          "metadata": {
            "tags": []
          },
          "execution_count": 67
        }
      ]
    },
    {
      "cell_type": "code",
      "metadata": {
        "colab": {
          "base_uri": "https://localhost:8080/"
        },
        "id": "ac-DsDxoF46O",
        "outputId": "727ec971-3d38-417f-fa63-39d5fd2de525"
      },
      "source": [
        "#List Comprehension\n",
        "fruits =  [\"banana\", \"apple\", \"cherry\", \"kiwi\", \"mango\"]\n",
        "newlist = []\n",
        "\n",
        "for x in fruits:\n",
        "  if \"a\" in x:\n",
        "    newlist.append(x)\n",
        "\n",
        "print(newlist)"
      ],
      "execution_count": 69,
      "outputs": [
        {
          "output_type": "stream",
          "text": [
            "['banana', 'apple', 'mango']\n"
          ],
          "name": "stdout"
        }
      ]
    },
    {
      "cell_type": "code",
      "metadata": {
        "colab": {
          "base_uri": "https://localhost:8080/"
        },
        "id": "ZGq_r5fxGUvF",
        "outputId": "3bb1f3ce-dd97-44de-f603-af55201d4f86"
      },
      "source": [
        "fruits =  [\"banana\", \"apple\", \"cherry\", \"kiwi\", \"mango\"]\n",
        "newlist = [x for x in fruits if \"a\" in x]\n",
        "print(newlist)"
      ],
      "execution_count": 76,
      "outputs": [
        {
          "output_type": "stream",
          "text": [
            "['banana', 'apple', 'mango']\n"
          ],
          "name": "stdout"
        }
      ]
    },
    {
      "cell_type": "code",
      "metadata": {
        "colab": {
          "base_uri": "https://localhost:8080/"
        },
        "id": "Be33xl4R3nCc",
        "outputId": "6c8dae30-7c31-45e5-90ac-430ecd5e9674"
      },
      "source": [
        "fruits =  [\"banana\", \"apple\", \"cherry\", \"kiwi\", \"mango\"]\n",
        "newlist = [x for x in fruits if x != \"apple\"]\n",
        "print(newlist)"
      ],
      "execution_count": 3,
      "outputs": [
        {
          "output_type": "stream",
          "text": [
            "['banana', 'cherry', 'kiwi', 'mango']\n"
          ],
          "name": "stdout"
        }
      ]
    }
  ]
}