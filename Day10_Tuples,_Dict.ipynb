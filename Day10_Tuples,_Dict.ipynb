{
  "nbformat": 4,
  "nbformat_minor": 0,
  "metadata": {
    "colab": {
      "name": "Day10_Tuples, Dict.ipynb",
      "provenance": [],
      "authorship_tag": "ABX9TyNCNNOGscNxaYNvXbnpoplQ",
      "include_colab_link": true
    },
    "kernelspec": {
      "name": "python3",
      "display_name": "Python 3"
    },
    "language_info": {
      "name": "python"
    }
  },
  "cells": [
    {
      "cell_type": "markdown",
      "metadata": {
        "id": "view-in-github",
        "colab_type": "text"
      },
      "source": [
        "<a href=\"https://colab.research.google.com/github/lydialiu2000/Hello_world/blob/main/Day10_Tuples%2C_Dict.ipynb\" target=\"_parent\"><img src=\"https://colab.research.google.com/assets/colab-badge.svg\" alt=\"Open In Colab\"/></a>"
      ]
    },
    {
      "cell_type": "code",
      "metadata": {
        "colab": {
          "base_uri": "https://localhost:8080/"
        },
        "id": "Ir8VkWjNRcYZ",
        "outputId": "20874881-d556-4b4a-cd09-71602c93f988"
      },
      "source": [
        "# But there is a workaround. You can convert the tuple into a list, change the list, and convert the list back into a tuple.\n",
        "\n",
        "X = (\"apple\", \"banana\", \"cherry\")\n",
        "y = list(x)\n",
        "y[1] = \"kiwi\"\n",
        "x = tuple(y)\n",
        "\n",
        "print(x)"
      ],
      "execution_count": 8,
      "outputs": [
        {
          "output_type": "stream",
          "text": [
            "('apple', 'kiwi', 'cherry')\n"
          ],
          "name": "stdout"
        }
      ]
    },
    {
      "cell_type": "code",
      "metadata": {
        "colab": {
          "base_uri": "https://localhost:8080/"
        },
        "id": "jkXBxRN9TIL8",
        "outputId": "12080b7d-d7e2-4aa5-d630-242444db52f9"
      },
      "source": [
        "X = (\"apple\", \"banana\", \"cherry\")\n",
        "y = list(x)\n",
        "y.append(\"orange\")\n",
        "x = tuple(y)\n",
        "\n",
        "print(x)"
      ],
      "execution_count": 9,
      "outputs": [
        {
          "output_type": "stream",
          "text": [
            "('apple', 'kiwi', 'cherry', 'orange')\n"
          ],
          "name": "stdout"
        }
      ]
    },
    {
      "cell_type": "code",
      "metadata": {
        "colab": {
          "base_uri": "https://localhost:8080/"
        },
        "id": "XCXSdhKTTk6j",
        "outputId": "25b28220-792c-457c-fcdc-bfc8571e52e1"
      },
      "source": [
        "X = (\"apple\", \"banana\", \"cherry\", \"pear\", \"kiwi\")\n",
        "y = list(x)\n",
        "y.remove(\"kiwi\")\n",
        "x = tuple(y)\n",
        "\n",
        "print(x)"
      ],
      "execution_count": 18,
      "outputs": [
        {
          "output_type": "stream",
          "text": [
            "('cherry',)\n"
          ],
          "name": "stdout"
        }
      ]
    },
    {
      "cell_type": "code",
      "metadata": {
        "colab": {
          "base_uri": "https://localhost:8080/"
        },
        "id": "aSYSG0OLUlcT",
        "outputId": "384f5a4e-8225-4065-fc43-430c85aaf00b"
      },
      "source": [
        "#unpacking\n",
        "\n",
        "fruits = (\"apple\", \"kiwi\", \"cherry\", \"banana\")\n",
        "(green, blue, *yellow) = fruits\n",
        "\n",
        "print(green)\n",
        "print(blue)\n",
        "\n",
        "print(yellow)"
      ],
      "execution_count": 20,
      "outputs": [
        {
          "output_type": "stream",
          "text": [
            "apple\n",
            "kiwi\n",
            "['cherry', 'banana']\n"
          ],
          "name": "stdout"
        }
      ]
    },
    {
      "cell_type": "code",
      "metadata": {
        "colab": {
          "base_uri": "https://localhost:8080/"
        },
        "id": "Oao9k_MhVQ1o",
        "outputId": "ef9003d3-737c-41db-8c5d-4026b9bd54e9"
      },
      "source": [
        "# tuple loop\n",
        "fruits = (\"apple\", \"kiwi\", \"cherry\", \"banana\")\n",
        "\n",
        "for i in range(len(fruits)):\n",
        "  print(fruits[i])\n",
        "  i = i + 1\n"
      ],
      "execution_count": 27,
      "outputs": [
        {
          "output_type": "stream",
          "text": [
            "apple\n",
            "kiwi\n",
            "cherry\n",
            "banana\n"
          ],
          "name": "stdout"
        }
      ]
    },
    {
      "cell_type": "code",
      "metadata": {
        "colab": {
          "base_uri": "https://localhost:8080/"
        },
        "id": "e4H4kVonWgum",
        "outputId": "6416cb61-e7c4-41d9-cc15-59e3fca64c17"
      },
      "source": [
        "# tuple while loop\n",
        "fruits = (\"apple\", \"kiwi\", \"cherry\", \"banana\", \"grape\")\n",
        "i = 0\n",
        "while i < len(fruits):\n",
        "  print(fruits[i])\n",
        "  i = i + 1\n"
      ],
      "execution_count": 28,
      "outputs": [
        {
          "output_type": "stream",
          "text": [
            "apple\n",
            "kiwi\n",
            "cherry\n",
            "banana\n",
            "grape\n"
          ],
          "name": "stdout"
        }
      ]
    },
    {
      "cell_type": "code",
      "metadata": {
        "colab": {
          "base_uri": "https://localhost:8080/"
        },
        "id": "pAKD0ySOW4H2",
        "outputId": "7fcf5a1d-fa4e-484a-ce70-faeffef96f11"
      },
      "source": [
        "fruits = (\"apple\", \"kiwi\", \"cherry\", \"banana\")\n",
        "mytuple = fruits * 2\n",
        "\n",
        "print(mytuple)"
      ],
      "execution_count": 29,
      "outputs": [
        {
          "output_type": "stream",
          "text": [
            "('apple', 'kiwi', 'cherry', 'banana', 'apple', 'kiwi', 'cherry', 'banana')\n"
          ],
          "name": "stdout"
        }
      ]
    },
    {
      "cell_type": "code",
      "metadata": {
        "colab": {
          "base_uri": "https://localhost:8080/"
        },
        "id": "gh5AnYtaXGSQ",
        "outputId": "eb772b72-c5d7-4106-83f1-b170e7929c32"
      },
      "source": [
        "fruits = (\"apple\", \"kiwi\", \"cherry\", \"banana\")\n",
        "print(fruits.index(\"kiwi\"))\n"
      ],
      "execution_count": 30,
      "outputs": [
        {
          "output_type": "stream",
          "text": [
            "1\n"
          ],
          "name": "stdout"
        }
      ]
    },
    {
      "cell_type": "code",
      "metadata": {
        "colab": {
          "base_uri": "https://localhost:8080/"
        },
        "id": "LjuHM-CeYjdx",
        "outputId": "f8543eec-8a90-4a81-b515-18626a082902"
      },
      "source": [
        "# Dictionaries\n",
        "\n",
        "thisdict = {\n",
        "    \"brand\": \"Ford\",\n",
        "    \"model\": \"Mustang\",\n",
        "    \"year\": 1964\n",
        "}\n",
        "\n",
        "print(thisdict)"
      ],
      "execution_count": 31,
      "outputs": [
        {
          "output_type": "stream",
          "text": [
            "{'brand': 'Ford', 'model': 'Mustang', 'year': 1964}\n"
          ],
          "name": "stdout"
        }
      ]
    },
    {
      "cell_type": "code",
      "metadata": {
        "colab": {
          "base_uri": "https://localhost:8080/"
        },
        "id": "x_uJCv_BY9h1",
        "outputId": "546a9d55-2316-43c8-8ea9-214ebe38e1f2"
      },
      "source": [
        "thisdict = {\n",
        "    \"brand\": \"Ford\",\n",
        "    \"model\": \"Mustang\",\n",
        "    \"year\": 1964\n",
        "}\n",
        "\n",
        "print(thisdict[\"brand\"])\n",
        "print(len(thisdict))\n",
        "print(type(thisdict))"
      ],
      "execution_count": 37,
      "outputs": [
        {
          "output_type": "stream",
          "text": [
            "Ford\n",
            "3\n",
            "<class 'dict'>\n"
          ],
          "name": "stdout"
        }
      ]
    },
    {
      "cell_type": "code",
      "metadata": {
        "colab": {
          "base_uri": "https://localhost:8080/",
          "height": 130
        },
        "id": "BmH12hGqZNfs",
        "outputId": "1c87a6d7-3113-4b81-8c70-d1fe414bf7e0"
      },
      "source": [
        "# Duplicate values will overwrite existing values:\n",
        "thisdict = {\n",
        "    \"brand\": \"Ford\",\n",
        "    \"model\": \"Mustang\",\n",
        "    \"year\": 1964\n",
        "    \"year\": 1980\n",
        "}\n",
        "\n",
        "print(thisdict)"
      ],
      "execution_count": 35,
      "outputs": [
        {
          "output_type": "error",
          "ename": "SyntaxError",
          "evalue": "ignored",
          "traceback": [
            "\u001b[0;36m  File \u001b[0;32m\"<ipython-input-35-3d1c6b05ec60>\"\u001b[0;36m, line \u001b[0;32m5\u001b[0m\n\u001b[0;31m    \"year\": 1980\u001b[0m\n\u001b[0m         ^\u001b[0m\n\u001b[0;31mSyntaxError\u001b[0m\u001b[0;31m:\u001b[0m invalid syntax\n"
          ]
        }
      ]
    },
    {
      "cell_type": "code",
      "metadata": {
        "colab": {
          "base_uri": "https://localhost:8080/"
        },
        "id": "-hsP5R33Z4UJ",
        "outputId": "1816908d-dae6-4de5-9994-6abfd2bcfad5"
      },
      "source": [
        "#Access Items. Duplicate values will overwrite existing values:\n",
        "\n",
        "thisdict = {\n",
        "    \"brand\": \"Ford\",\n",
        "    \"model\": \"Mustang\",\n",
        "    \"year\": 1964\n",
        "}\n",
        "\n",
        "x = thisdict[\"model\"]\n",
        "print(x)"
      ],
      "execution_count": 42,
      "outputs": [
        {
          "output_type": "stream",
          "text": [
            "Mustang\n"
          ],
          "name": "stdout"
        }
      ]
    },
    {
      "cell_type": "code",
      "metadata": {
        "colab": {
          "base_uri": "https://localhost:8080/"
        },
        "id": "8qDY_RoAaMtP",
        "outputId": "89e8d57c-77f2-4832-eda3-b0422f194aa9"
      },
      "source": [
        "x = thisdict.get(\"year\")\n",
        "print(x)"
      ],
      "execution_count": 45,
      "outputs": [
        {
          "output_type": "stream",
          "text": [
            "1964\n"
          ],
          "name": "stdout"
        }
      ]
    },
    {
      "cell_type": "code",
      "metadata": {
        "colab": {
          "base_uri": "https://localhost:8080/"
        },
        "id": "dtZyS236aald",
        "outputId": "b4091789-c3be-4b62-8b28-66e62eb85061"
      },
      "source": [
        "x = thisdict.keys()\n",
        "print(x)"
      ],
      "execution_count": 46,
      "outputs": [
        {
          "output_type": "stream",
          "text": [
            "dict_keys(['brand', 'model', 'year'])\n"
          ],
          "name": "stdout"
        }
      ]
    },
    {
      "cell_type": "code",
      "metadata": {
        "colab": {
          "base_uri": "https://localhost:8080/"
        },
        "id": "Z7Df7XpqajIK",
        "outputId": "51a061a1-7020-48e8-fcc7-1cc8ec244521"
      },
      "source": [
        "car = {\n",
        "  \"brand\": \"Ford\",\n",
        "  \"model\": \"Mustang\",\n",
        "  \"year\": 1964\n",
        "}\n",
        "\n",
        "x = car.keys()\n",
        "\n",
        "print(x) #before the change\n",
        "\n",
        "car[\"color\"] = \"white\"\n",
        "\n",
        "print(x) #after the change"
      ],
      "execution_count": 52,
      "outputs": [
        {
          "output_type": "stream",
          "text": [
            "dict_keys(['brand', 'model', 'year'])\n",
            "dict_keys(['brand', 'model', 'year', 'color'])\n"
          ],
          "name": "stdout"
        }
      ]
    },
    {
      "cell_type": "code",
      "metadata": {
        "colab": {
          "base_uri": "https://localhost:8080/"
        },
        "id": "_sD4BtCnbUzW",
        "outputId": "faa9900a-d3c4-42ed-d727-590e30c26a0e"
      },
      "source": [
        "car = {\n",
        "    \"brand\": \"ford\",\n",
        "    \"model\": \"Mustang1\",\n",
        "    \"size\": \"small\"\n",
        "}\n",
        "\n",
        "x = car.keys()\n",
        "\n",
        "print(x) # before the change\n",
        "\n",
        "car[\"color\"] = \"white\"\n",
        "\n",
        "print(x) #after the change"
      ],
      "execution_count": 57,
      "outputs": [
        {
          "output_type": "stream",
          "text": [
            "dict_keys(['brand', 'model', 'size'])\n",
            "dict_keys(['brand', 'model', 'size', 'color'])\n"
          ],
          "name": "stdout"
        }
      ]
    },
    {
      "cell_type": "code",
      "metadata": {
        "colab": {
          "base_uri": "https://localhost:8080/"
        },
        "id": "WbRKZmIHb-gi",
        "outputId": "831ebb6b-99e9-4704-b2e8-b5f963ebdbfe"
      },
      "source": [
        "car1 = {\n",
        "    \"brand\": \"ford\",\n",
        "    \"model\": \"Mustang1\",\n",
        "    \"color\": \"white\"\n",
        "}\n",
        "\n",
        "x = car1.values()\n",
        "print(x)\n",
        "\n",
        "car1[\"color\"] = \"red\"\n",
        "print(x)"
      ],
      "execution_count": 61,
      "outputs": [
        {
          "output_type": "stream",
          "text": [
            "dict_values(['ford', 'Mustang1', 'white'])\n",
            "dict_values(['ford', 'Mustang1', 'red'])\n"
          ],
          "name": "stdout"
        }
      ]
    },
    {
      "cell_type": "code",
      "metadata": {
        "colab": {
          "base_uri": "https://localhost:8080/"
        },
        "id": "qQ9myKUkcx0Z",
        "outputId": "fb286013-21fb-47de-c163-54f917dd3c30"
      },
      "source": [
        "car2 = {\n",
        "    \"brand\": \"ford\",\n",
        "    \"model\": \"Mustang1\",\n",
        "    \"color\": \"white\"\n",
        "}\n",
        "\n",
        "x = car2.values()\n",
        "\n",
        "print(x)\n",
        "\n",
        "car2[\"year\"] = 2025\n",
        "\n",
        "print(x)"
      ],
      "execution_count": 62,
      "outputs": [
        {
          "output_type": "stream",
          "text": [
            "dict_values(['ford', 'Mustang1', 'white'])\n",
            "dict_values(['ford', 'Mustang1', 'white', 2025])\n"
          ],
          "name": "stdout"
        }
      ]
    },
    {
      "cell_type": "code",
      "metadata": {
        "colab": {
          "base_uri": "https://localhost:8080/"
        },
        "id": "FQBr2yvLdMeU",
        "outputId": "57992853-6f13-4248-b6dd-7d9b6d606e65"
      },
      "source": [
        "x = car2.items()\n",
        "print(x)"
      ],
      "execution_count": 63,
      "outputs": [
        {
          "output_type": "stream",
          "text": [
            "dict_items([('brand', 'ford'), ('model', 'Mustang1'), ('color', 'white'), ('year', 2025)])\n"
          ],
          "name": "stdout"
        }
      ]
    },
    {
      "cell_type": "code",
      "metadata": {
        "colab": {
          "base_uri": "https://localhost:8080/"
        },
        "id": "_Nz4j6PwdTkm",
        "outputId": "8fca8b13-dcf4-4a07-971d-4601689042c7"
      },
      "source": [
        "car2 = {\n",
        "    \"brand\": \"ford\",\n",
        "    \"model\": \"Mustang1\",\n",
        "    \"color\": \"white\",\n",
        "    \"year\": 1964\n",
        "    \n",
        "}\n",
        "\n",
        "x = car2.items()\n",
        "\n",
        "print(x)\n",
        "\n",
        "car2[\"year\"] = 2023\n",
        "\n",
        "print(x)"
      ],
      "execution_count": 68,
      "outputs": [
        {
          "output_type": "stream",
          "text": [
            "dict_items([('brand', 'ford'), ('model', 'Mustang1'), ('color', 'white'), ('year', 1964)])\n",
            "dict_items([('brand', 'ford'), ('model', 'Mustang1'), ('color', 'white'), ('year', 2023)])\n"
          ],
          "name": "stdout"
        }
      ]
    },
    {
      "cell_type": "code",
      "metadata": {
        "colab": {
          "base_uri": "https://localhost:8080/"
        },
        "id": "Ii6vCJb9efwr",
        "outputId": "6041460d-5fc4-4679-b17e-650ae111fb46"
      },
      "source": [
        "car2 = {\n",
        "    \"brand\": \"ford\",\n",
        "    \"model\": \"Mustang1\",\n",
        "    \"color\": \"white\",\n",
        "    \"year\": 1964\n",
        "    \n",
        "}\n",
        "\n",
        "if \"model\" in car2:\n",
        "  print(\"Yes, 'model' is one of the keys in the cars2 dictionary\")"
      ],
      "execution_count": 70,
      "outputs": [
        {
          "output_type": "stream",
          "text": [
            "Yes, 'model' is one of the keys in the cars2 dictionary\n"
          ],
          "name": "stdout"
        }
      ]
    },
    {
      "cell_type": "code",
      "metadata": {
        "colab": {
          "base_uri": "https://localhost:8080/"
        },
        "id": "NrSQb4bokCsm",
        "outputId": "c4446b2b-7aee-4599-d817-e48a0ee215ec"
      },
      "source": [
        "car2 = {\n",
        "    \"brand\": \"ford\",\n",
        "    \"model\": \"Mustang1\",\n",
        "    \"color\": \"white\",\n",
        "    \"year\": 1964\n",
        "    \n",
        "}\n",
        "\n",
        "car2.update({\"size\": \"big\"})\n",
        "print(car2)"
      ],
      "execution_count": 79,
      "outputs": [
        {
          "output_type": "stream",
          "text": [
            "{'brand': 'ford', 'model': 'Mustang1', 'color': 'white', 'year': 1964, 'size': 'big'}\n"
          ],
          "name": "stdout"
        }
      ]
    },
    {
      "cell_type": "code",
      "metadata": {
        "colab": {
          "base_uri": "https://localhost:8080/"
        },
        "id": "WdP5-BE4kVcL",
        "outputId": "4a9e6190-2dd8-4e79-f548-52a2428dd3a1"
      },
      "source": [
        "car2 = {\n",
        "    \"brand\": \"ford\",\n",
        "    \"model\": \"Mustang1\",\n",
        "    \"color\": \"white\",\n",
        "    \"year\": 1964\n",
        "    \n",
        "}\n",
        "\n",
        "car2[\"size\"] = \"large\"\n",
        "print(car2)"
      ],
      "execution_count": 77,
      "outputs": [
        {
          "output_type": "stream",
          "text": [
            "{'brand': 'ford', 'model': 'Mustang1', 'color': 'white', 'year': 1964, 'size': 'large'}\n"
          ],
          "name": "stdout"
        }
      ]
    },
    {
      "cell_type": "code",
      "metadata": {
        "colab": {
          "base_uri": "https://localhost:8080/"
        },
        "id": "XzkFuTI2mXHz",
        "outputId": "c98c709b-3ce6-4507-84de-bca378333c25"
      },
      "source": [
        "car2 = {\n",
        "    \"brand\": \"ford\",\n",
        "    \"model\": \"Mustang1\",\n",
        "    \"color\": \"white\",\n",
        "    \"year\": 1964\n",
        "    \n",
        "}\n",
        "car2.pop(\"model\")\n",
        "print(car2)"
      ],
      "execution_count": 80,
      "outputs": [
        {
          "output_type": "stream",
          "text": [
            "{'brand': 'ford', 'color': 'white', 'year': 1964}\n"
          ],
          "name": "stdout"
        }
      ]
    },
    {
      "cell_type": "code",
      "metadata": {
        "colab": {
          "base_uri": "https://localhost:8080/"
        },
        "id": "Bb8trWa9mimK",
        "outputId": "28589724-d23c-4aa2-81c5-5dbdd01c92f5"
      },
      "source": [
        "car2 = {\n",
        "    \"brand\": \"ford\",\n",
        "    \"model\": \"Mustang1\",\n",
        "    \"color\": \"white\",\n",
        "    \"year\": 1964\n",
        "    \n",
        "}\n",
        "car2.popitem()\n",
        "print(car2)"
      ],
      "execution_count": 85,
      "outputs": [
        {
          "output_type": "stream",
          "text": [
            "{'brand': 'ford', 'model': 'Mustang1', 'color': 'white'}\n"
          ],
          "name": "stdout"
        }
      ]
    },
    {
      "cell_type": "code",
      "metadata": {
        "colab": {
          "base_uri": "https://localhost:8080/"
        },
        "id": "su5ehb1PmvLO",
        "outputId": "d49d0bec-57a3-4ceb-f101-f1b57b761075"
      },
      "source": [
        "#del\n",
        "car2 = {\n",
        "    \"brand\": \"ford\",\n",
        "    \"model\": \"Mustang1\",\n",
        "    \"color\": \"white\",\n",
        "    \"year\": 1964\n",
        "    \n",
        "}\n",
        "del car2[\"color\"]\n",
        "print(car2)"
      ],
      "execution_count": 86,
      "outputs": [
        {
          "output_type": "stream",
          "text": [
            "{'brand': 'ford', 'model': 'Mustang1', 'year': 1964}\n"
          ],
          "name": "stdout"
        }
      ]
    },
    {
      "cell_type": "code",
      "metadata": {
        "colab": {
          "base_uri": "https://localhost:8080/"
        },
        "id": "H-A8M7l7m6yW",
        "outputId": "8ab9a7dd-c1fa-423e-c708-5b7ff8b6763f"
      },
      "source": [
        "#clear()\n",
        "car2 = {\n",
        "    \"brand\": \"ford\",\n",
        "    \"model\": \"Mustang1\",\n",
        "    \"color\": \"white\",\n",
        "    \"year\": 1964\n",
        "    \n",
        "}\n",
        "car2.clear()\n",
        "print(car2)"
      ],
      "execution_count": 87,
      "outputs": [
        {
          "output_type": "stream",
          "text": [
            "{}\n"
          ],
          "name": "stdout"
        }
      ]
    },
    {
      "cell_type": "code",
      "metadata": {
        "colab": {
          "base_uri": "https://localhost:8080/"
        },
        "id": "qVOKnMRBnSzu",
        "outputId": "920ecc36-79d8-455e-b894-3ac24820359e"
      },
      "source": [
        "car2 = {\n",
        "    \"brand\": \"ford\",\n",
        "    \"model\": \"Mustang1\",\n",
        "    \"color\": \"white\",\n",
        "    \"year\": 1964\n",
        "    \n",
        "}\n",
        "for x in car2:\n",
        "  print(x)"
      ],
      "execution_count": 89,
      "outputs": [
        {
          "output_type": "stream",
          "text": [
            "brand\n",
            "model\n",
            "color\n",
            "year\n"
          ],
          "name": "stdout"
        }
      ]
    },
    {
      "cell_type": "code",
      "metadata": {
        "colab": {
          "base_uri": "https://localhost:8080/"
        },
        "id": "JjkZoeE1naUx",
        "outputId": "85488823-942c-49fd-b1f0-77b3c10185e9"
      },
      "source": [
        "car2 = {\n",
        "    \"brand\": \"ford\",\n",
        "    \"model\": \"Mustang1\",\n",
        "    \"color\": \"white\",\n",
        "    \"year\": 1964\n",
        "    \n",
        "}\n",
        "for x in car2:\n",
        "  print(car2[x])"
      ],
      "execution_count": 90,
      "outputs": [
        {
          "output_type": "stream",
          "text": [
            "ford\n",
            "Mustang1\n",
            "white\n",
            "1964\n"
          ],
          "name": "stdout"
        }
      ]
    },
    {
      "cell_type": "code",
      "metadata": {
        "colab": {
          "base_uri": "https://localhost:8080/"
        },
        "id": "FWalt0Psnkdl",
        "outputId": "e0172a85-0973-474b-c4bd-e3448ad5d872"
      },
      "source": [
        "for x in car2.values():\n",
        "  print(x)"
      ],
      "execution_count": 91,
      "outputs": [
        {
          "output_type": "stream",
          "text": [
            "ford\n",
            "Mustang1\n",
            "white\n",
            "1964\n"
          ],
          "name": "stdout"
        }
      ]
    },
    {
      "cell_type": "code",
      "metadata": {
        "colab": {
          "base_uri": "https://localhost:8080/"
        },
        "id": "I3gzBawBnqws",
        "outputId": "18f39861-48fa-4640-ed48-42ccd5d0dcdd"
      },
      "source": [
        "for x in car2.keys():\n",
        "  print(x)"
      ],
      "execution_count": 92,
      "outputs": [
        {
          "output_type": "stream",
          "text": [
            "brand\n",
            "model\n",
            "color\n",
            "year\n"
          ],
          "name": "stdout"
        }
      ]
    },
    {
      "cell_type": "code",
      "metadata": {
        "colab": {
          "base_uri": "https://localhost:8080/"
        },
        "id": "wIRNZt8rnxF1",
        "outputId": "b3b47243-290b-431f-f385-cf47735b7235"
      },
      "source": [
        "for x in car2.items():\n",
        "  print(x)"
      ],
      "execution_count": 93,
      "outputs": [
        {
          "output_type": "stream",
          "text": [
            "('brand', 'ford')\n",
            "('model', 'Mustang1')\n",
            "('color', 'white')\n",
            "('year', 1964)\n"
          ],
          "name": "stdout"
        }
      ]
    },
    {
      "cell_type": "code",
      "metadata": {
        "colab": {
          "base_uri": "https://localhost:8080/"
        },
        "id": "Gh4ikoIvn7sx",
        "outputId": "7be4936a-ad5f-4da0-8008-49b56cce15d6"
      },
      "source": [
        "# Make a copy of a dictionary with the copy() method:\n",
        "\n",
        "car2 = {\n",
        "    \"brand\": \"ford\",\n",
        "    \"model\": \"Mustang1\",\n",
        "    \"color\": \"white\",\n",
        "    \"year\": 1964\n",
        "    \n",
        "}\n",
        "\n",
        "mycars = car2.copy()\n",
        "print(car2)\n",
        "print(mycars)"
      ],
      "execution_count": 95,
      "outputs": [
        {
          "output_type": "stream",
          "text": [
            "{'brand': 'ford', 'model': 'Mustang1', 'color': 'white', 'year': 1964}\n",
            "{'brand': 'ford', 'model': 'Mustang1', 'color': 'white', 'year': 1964}\n"
          ],
          "name": "stdout"
        }
      ]
    },
    {
      "cell_type": "code",
      "metadata": {
        "colab": {
          "base_uri": "https://localhost:8080/"
        },
        "id": "_LsKEjQmoLl0",
        "outputId": "45724301-2908-4615-9384-068e1babaeca"
      },
      "source": [
        "\n",
        "mycars2 = dict(car2)\n",
        "print(mycars2)"
      ],
      "execution_count": 96,
      "outputs": [
        {
          "output_type": "stream",
          "text": [
            "{'brand': 'ford', 'model': 'Mustang1', 'color': 'white', 'year': 1964}\n"
          ],
          "name": "stdout"
        }
      ]
    },
    {
      "cell_type": "code",
      "metadata": {
        "colab": {
          "base_uri": "https://localhost:8080/"
        },
        "id": "DtRCn1MrohPE",
        "outputId": "8f4ae6cf-760f-4488-a26a-910ff04cfb52"
      },
      "source": [
        "# Nested Dictionaries\n",
        "\n",
        "child1 = {\n",
        "    \"name\": \"Emil\",\n",
        "    \"year\": 2004\n",
        "}\n",
        "child2 = {\n",
        "    \"name\": \"Tobias\",\n",
        "    \"year\": 1995\n",
        "}\n",
        "child3 = {\n",
        "    \"name\": \"Linus\",\n",
        "    \"year\": 2011\n",
        "}\n",
        "\n",
        "myfamily = {\n",
        "    \"child1\": child1,\n",
        "    \"child2\": child2,\n",
        "    \"child3\": child3\n",
        "}\n",
        "\n",
        "print(myfamily)"
      ],
      "execution_count": 105,
      "outputs": [
        {
          "output_type": "stream",
          "text": [
            "{'child1': {'name': 'Emil', 'year': 2004}, 'child2': {'name': 'Tobias', 'year': 1995}, 'child3': {'name': 'Linus', 'year': 2011}}\n"
          ],
          "name": "stdout"
        }
      ]
    },
    {
      "cell_type": "code",
      "metadata": {
        "colab": {
          "base_uri": "https://localhost:8080/"
        },
        "id": "RdfxJ2j1qAqN",
        "outputId": "08a87c22-3930-4d95-8397-65336673d0ee"
      },
      "source": [
        "x = myfamily.setdefault(\"child4\", \"{'name': 'Jason'}\")\n",
        "print(x)"
      ],
      "execution_count": 106,
      "outputs": [
        {
          "output_type": "stream",
          "text": [
            "{'name': 'Jason'}\n"
          ],
          "name": "stdout"
        }
      ]
    },
    {
      "cell_type": "code",
      "metadata": {
        "colab": {
          "base_uri": "https://localhost:8080/"
        },
        "id": "q2HcJ6rupRIJ",
        "outputId": "e2ba80ee-1920-47ab-f001-92a666696ff3"
      },
      "source": [
        "# fromkeys()\n",
        "\n",
        "x = ('key1', 'key2', 'key3')\n",
        "#y = (0, 1, 2)\n",
        "\n",
        "thisdict = dict.fromkeys(x)\n",
        "print(thisdict)"
      ],
      "execution_count": 101,
      "outputs": [
        {
          "output_type": "stream",
          "text": [
            "{'key1': None, 'key2': None, 'key3': None}\n"
          ],
          "name": "stdout"
        }
      ]
    },
    {
      "cell_type": "code",
      "metadata": {
        "colab": {
          "base_uri": "https://localhost:8080/"
        },
        "id": "2EJmw3tRpp_f",
        "outputId": "83627fbe-a15a-4b78-9c91-08468d7c7bad"
      },
      "source": [
        "x = ('key1', 'key2', 'key3')\n",
        "y = (0, 1, 2)\n",
        "\n",
        "thisdict = dict.fromkeys(x)\n",
        "print(thisdict)"
      ],
      "execution_count": 102,
      "outputs": [
        {
          "output_type": "stream",
          "text": [
            "{'key1': None, 'key2': None, 'key3': None}\n"
          ],
          "name": "stdout"
        }
      ]
    }
  ]
}