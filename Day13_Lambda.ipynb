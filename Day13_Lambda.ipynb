{
  "nbformat": 4,
  "nbformat_minor": 0,
  "metadata": {
    "colab": {
      "name": "Day13 Lambda.ipynb",
      "provenance": [],
      "authorship_tag": "ABX9TyPAMnYx4WsKaZKInGS5tjJ9",
      "include_colab_link": true
    },
    "kernelspec": {
      "name": "python3",
      "display_name": "Python 3"
    },
    "language_info": {
      "name": "python"
    }
  },
  "cells": [
    {
      "cell_type": "markdown",
      "metadata": {
        "id": "view-in-github",
        "colab_type": "text"
      },
      "source": [
        "<a href=\"https://colab.research.google.com/github/lydialiu2000/Hello_world/blob/main/Day13_Lambda.ipynb\" target=\"_parent\"><img src=\"https://colab.research.google.com/assets/colab-badge.svg\" alt=\"Open In Colab\"/></a>"
      ]
    },
    {
      "cell_type": "code",
      "metadata": {
        "colab": {
          "base_uri": "https://localhost:8080/"
        },
        "id": "JfBs43d_gaa0",
        "outputId": "fd18688e-d7f9-4bed-d7e6-4adc2150ae56"
      },
      "source": [
        "# lambda\n",
        "x = lambda a : a + 10\n",
        "print(x(5))"
      ],
      "execution_count": 1,
      "outputs": [
        {
          "output_type": "stream",
          "text": [
            "15\n"
          ],
          "name": "stdout"
        }
      ]
    },
    {
      "cell_type": "code",
      "metadata": {
        "colab": {
          "base_uri": "https://localhost:8080/"
        },
        "id": "ZoTEEOUDDilY",
        "outputId": "bdd71f0f-8bad-48bd-c737-e7cc54e07db5"
      },
      "source": [
        "x = lambda a, b : a * b\n",
        "print(x(5, 6))"
      ],
      "execution_count": 2,
      "outputs": [
        {
          "output_type": "stream",
          "text": [
            "30\n"
          ],
          "name": "stdout"
        }
      ]
    },
    {
      "cell_type": "code",
      "metadata": {
        "colab": {
          "base_uri": "https://localhost:8080/"
        },
        "id": "i9E4WrXsFMOp",
        "outputId": "661ec11f-01d4-4829-bbcc-82248b95bf62"
      },
      "source": [
        "x = lambda a, b, c : a + b + c\n",
        "print(x(5, 6, 4))"
      ],
      "execution_count": 3,
      "outputs": [
        {
          "output_type": "stream",
          "text": [
            "15\n"
          ],
          "name": "stdout"
        }
      ]
    },
    {
      "cell_type": "code",
      "metadata": {
        "colab": {
          "base_uri": "https://localhost:8080/"
        },
        "id": "i90Ke7fAnPAF",
        "outputId": "ec3b36f6-7a1f-4348-b848-f297e104c5ad"
      },
      "source": [
        "def myfunc(n):\n",
        "  return lambda a : a * n\n",
        "\n",
        "mydoubler = myfunc(2)\n",
        "\n",
        "print(mydoubler(11))"
      ],
      "execution_count": 1,
      "outputs": [
        {
          "output_type": "stream",
          "text": [
            "22\n"
          ],
          "name": "stdout"
        }
      ]
    },
    {
      "cell_type": "code",
      "metadata": {
        "colab": {
          "base_uri": "https://localhost:8080/"
        },
        "id": "8nD34tUXr2sp",
        "outputId": "8e31a6ab-0df3-4512-e387-6aa4eed20ddd"
      },
      "source": [
        "def myfunc_double(n):\n",
        "  return lambda a : a * n\n",
        "\n",
        "mydoubler = myfunc_double(2)\n",
        "mytripler = myfunc_double(3)\n",
        "\n",
        "print(mydoubler(20))\n",
        "print(mytripler(10))"
      ],
      "execution_count": 2,
      "outputs": [
        {
          "output_type": "stream",
          "text": [
            "40\n",
            "30\n"
          ],
          "name": "stdout"
        }
      ]
    },
    {
      "cell_type": "code",
      "metadata": {
        "colab": {
          "base_uri": "https://localhost:8080/"
        },
        "id": "__HOqObRvIIl",
        "outputId": "179b438f-19a6-4d9a-9f62-b53424521f94"
      },
      "source": [
        "# Arrays\n",
        "cars = [\"Ford\", \"Volve\", \"BMW\", \"Volve\"]\n",
        "print(cars)"
      ],
      "execution_count": 5,
      "outputs": [
        {
          "output_type": "stream",
          "text": [
            "['Ford', 'Volve', 'BMW']\n"
          ],
          "name": "stdout"
        }
      ]
    },
    {
      "cell_type": "code",
      "metadata": {
        "colab": {
          "base_uri": "https://localhost:8080/"
        },
        "id": "-s12MtjAvse4",
        "outputId": "99c6eb27-4f8d-409a-d1ee-2912b9be3bf0"
      },
      "source": [
        "cars.remove(\"Volve\")\n",
        "print(cars)"
      ],
      "execution_count": 7,
      "outputs": [
        {
          "output_type": "stream",
          "text": [
            "['Ford', 'BMW']\n"
          ],
          "name": "stdout"
        }
      ]
    },
    {
      "cell_type": "code",
      "metadata": {
        "colab": {
          "base_uri": "https://localhost:8080/"
        },
        "id": "XEx2md4xwDrA",
        "outputId": "29b33f6b-c80a-49fd-ea20-2e745ab3047d"
      },
      "source": [
        "cars.append(\"Honda\")\n",
        "print(cars)"
      ],
      "execution_count": 8,
      "outputs": [
        {
          "output_type": "stream",
          "text": [
            "['Ford', 'BMW', 'Honda']\n"
          ],
          "name": "stdout"
        }
      ]
    },
    {
      "cell_type": "code",
      "metadata": {
        "colab": {
          "base_uri": "https://localhost:8080/"
        },
        "id": "T-4QSdKVwIac",
        "outputId": "a14bde54-0aa3-41b1-cecb-183c4abf9b4d"
      },
      "source": [
        "cars.pop()\n",
        "print(cars)"
      ],
      "execution_count": 9,
      "outputs": [
        {
          "output_type": "stream",
          "text": [
            "['Ford', 'BMW']\n"
          ],
          "name": "stdout"
        }
      ]
    },
    {
      "cell_type": "code",
      "metadata": {
        "colab": {
          "base_uri": "https://localhost:8080/"
        },
        "id": "474XJ-pTwkmI",
        "outputId": "31fb4771-ca18-40ce-ade8-ee2296dad288"
      },
      "source": [
        "def myFunc(e):\n",
        "  return len(e)\n",
        "\n",
        "cars = [\"Ben\", \"BMW\", \"Hondaaa\", \"Auccar\", \"Volve\"]\n",
        "cars.sort(key=myFunc)\n",
        "print(cars)\n"
      ],
      "execution_count": 14,
      "outputs": [
        {
          "output_type": "stream",
          "text": [
            "['Ben', 'BMW', 'Volve', 'Auccar', 'Hondaaa']\n"
          ],
          "name": "stdout"
        }
      ]
    },
    {
      "cell_type": "code",
      "metadata": {
        "colab": {
          "base_uri": "https://localhost:8080/"
        },
        "id": "xbgz4ZpSxiAC",
        "outputId": "9e246d23-6793-4a52-8f40-4d6e3d182be9"
      },
      "source": [
        "#Sort a list of dictionaries based on the \"year\" value of the dictionaries\n",
        "def myFunc(e):\n",
        "  return e['year']\n",
        "\n",
        "cars = [\n",
        "    {'car': 'Ford', 'year': 1990},\n",
        "    {'car': 'Volve', 'year': 1890},\n",
        "    {'car': 'Marzda', 'year': 2021},\n",
        "    {'car': 'Benz', 'year': 2001}\n",
        "]\n",
        "cars.sort(reverse = True, key=myFunc)\n",
        "print(cars)"
      ],
      "execution_count": 16,
      "outputs": [
        {
          "output_type": "stream",
          "text": [
            "[{'car': 'Marzda', 'year': 2021}, {'car': 'Benz', 'year': 2001}, {'car': 'Ford', 'year': 1990}, {'car': 'Volve', 'year': 1890}]\n"
          ],
          "name": "stdout"
        }
      ]
    },
    {
      "cell_type": "code",
      "metadata": {
        "colab": {
          "base_uri": "https://localhost:8080/"
        },
        "id": "fYBaYRPlyllz",
        "outputId": "65635cea-c8c9-4138-b9d5-42e4defb999b"
      },
      "source": [
        "#Sort a list of dictionaries based on the \"year\" value of the dictionaries:\n",
        "def myFunc(e):\n",
        "  return len(e)\n",
        "\n",
        "cars = ['Ford', 'Mitsubishi', 'BMW', 'VW']\n",
        "cars.sort(reverse= True, key=myFunc)\n",
        "\n",
        "print(cars)"
      ],
      "execution_count": 17,
      "outputs": [
        {
          "output_type": "stream",
          "text": [
            "['Mitsubishi', 'Ford', 'BMW', 'VW']\n"
          ],
          "name": "stdout"
        }
      ]
    },
    {
      "cell_type": "code",
      "metadata": {
        "colab": {
          "base_uri": "https://localhost:8080/"
        },
        "id": "xSaSg1CHzPAE",
        "outputId": "ca7ca25a-e899-424f-90b9-3d07e5144f6e"
      },
      "source": [
        "# Class/Objects\n",
        "class MyClass:\n",
        "  x = 5\n",
        "\n",
        "p1 = MyClass()\n",
        "print(p1.x)"
      ],
      "execution_count": 19,
      "outputs": [
        {
          "output_type": "stream",
          "text": [
            "5\n"
          ],
          "name": "stdout"
        }
      ]
    },
    {
      "cell_type": "code",
      "metadata": {
        "colab": {
          "base_uri": "https://localhost:8080/"
        },
        "id": "GCi2T0rf0BdI",
        "outputId": "8a056caa-646a-4a0b-abef-07bd17a02eed"
      },
      "source": [
        "# __init__\n",
        "\n",
        "class Person:\n",
        "  def __init__(self, name, age):\n",
        "    self.name = name\n",
        "    self.age = age\n",
        "\n",
        "p1 = Person(\"John\", 36)\n",
        "\n",
        "print(p1.name)\n",
        "print(p1.age)"
      ],
      "execution_count": 20,
      "outputs": [
        {
          "output_type": "stream",
          "text": [
            "John\n",
            "36\n"
          ],
          "name": "stdout"
        }
      ]
    },
    {
      "cell_type": "code",
      "metadata": {
        "colab": {
          "base_uri": "https://localhost:8080/"
        },
        "id": "T-_wHQfh02AK",
        "outputId": "0d02f6be-b0d4-42e1-f739-e4ed6460ea54"
      },
      "source": [
        "class Person:\n",
        "  def __init__(self, name, age):\n",
        "    self.name = name\n",
        "    self.age = age\n",
        "   \n",
        "  def myfunc(self):\n",
        "    print('Hello my name is ' + self.name)\n",
        "\n",
        "p1 = Person(\"John\", 36)\n",
        "p1.myfunc()"
      ],
      "execution_count": 26,
      "outputs": [
        {
          "output_type": "stream",
          "text": [
            "Hello my name is John\n"
          ],
          "name": "stdout"
        }
      ]
    },
    {
      "cell_type": "code",
      "metadata": {
        "colab": {
          "base_uri": "https://localhost:8080/"
        },
        "id": "1Kfht2Nj2iZD",
        "outputId": "6fbf9b87-036e-4a66-b15e-35a6f6b20fd2"
      },
      "source": [
        "class Person1:\n",
        "  def __init__(mysillyobject, name, age):\n",
        "    mysillyobject.name = name\n",
        "    mysillyobject.age = age\n",
        "  \n",
        "  def myfunc1(abc):\n",
        "    print(\"Hello my name is \" + abc.name)\n",
        "\n",
        "p1 = Person1(\"Lydia\", 39)\n",
        "p1.myfunc1()"
      ],
      "execution_count": 28,
      "outputs": [
        {
          "output_type": "stream",
          "text": [
            "Hello my name is Lydia\n"
          ],
          "name": "stdout"
        }
      ]
    },
    {
      "cell_type": "code",
      "metadata": {
        "colab": {
          "base_uri": "https://localhost:8080/"
        },
        "id": "9ToDKfDQ3Oxo",
        "outputId": "13ddccdf-4542-493d-e8f9-1623948c60ff"
      },
      "source": [
        "p1.age = 40\n",
        "print(p1.age)"
      ],
      "execution_count": 29,
      "outputs": [
        {
          "output_type": "stream",
          "text": [
            "40\n"
          ],
          "name": "stdout"
        }
      ]
    },
    {
      "cell_type": "code",
      "metadata": {
        "colab": {
          "base_uri": "https://localhost:8080/"
        },
        "id": "FTc1fMIApAAC",
        "outputId": "e9ce9d38-ae17-4b44-a3f0-578390d0bb4a"
      },
      "source": [
        "\"\"\"Inheritance\n",
        "create a parent class\n",
        "\"\"\"\n",
        "class Person:\n",
        "  def __init__(self, fname, lname):\n",
        "    self.firstname = fname\n",
        "    self.lastname = lname\n",
        "  \n",
        "  def printname(abc):\n",
        "    print(abc.firstname, abc.lastname)\n",
        "\n",
        "x = Person(\"John\", 35)\n",
        "x.printname()"
      ],
      "execution_count": 1,
      "outputs": [
        {
          "output_type": "stream",
          "text": [
            "John 35\n"
          ],
          "name": "stdout"
        }
      ]
    },
    {
      "cell_type": "code",
      "metadata": {
        "colab": {
          "base_uri": "https://localhost:8080/"
        },
        "id": "WaqFNdIcsVXh",
        "outputId": "84b9779e-3833-4321-b83b-01907cee3532"
      },
      "source": [
        "# create a child class\n",
        "class Student(Person):\n",
        "  def __init__(self, fname, lname):\n",
        "    #The child's __init__() function overrides the inheritance of the parent's __init__() function.\n",
        "    Person.__init__(self, fname, lname)\n",
        "\n",
        "x = Student(\"Jo\", 45)\n",
        "x.printname()\n",
        "  "
      ],
      "execution_count": 4,
      "outputs": [
        {
          "output_type": "stream",
          "text": [
            "Jo 45\n"
          ],
          "name": "stdout"
        }
      ]
    },
    {
      "cell_type": "code",
      "metadata": {
        "colab": {
          "base_uri": "https://localhost:8080/"
        },
        "id": "pkNmP8XXtDVp",
        "outputId": "5ab44e0b-ca57-40da-929c-369904cc2dc2"
      },
      "source": [
        "class Person:\n",
        "  def __init__(abc1, fname, lname):\n",
        "    abc1.firstname = fname\n",
        "    abc1.lastname = lname\n",
        "\n",
        "  def printname(abc2):\n",
        "    printname(abc2.q, abc2.d)\n",
        "\n",
        "class Student1(Person):\n",
        "  def __init__(abc3, fname, lname, year):\n",
        "    super().__init__(fname, lname)\n",
        "    abc3.graduationyear = year\n",
        "\n",
        "x = Student1(\"John\", \"Green\", 2021)\n",
        "print(x.graduationyear)"
      ],
      "execution_count": 15,
      "outputs": [
        {
          "output_type": "stream",
          "text": [
            "2021\n"
          ],
          "name": "stdout"
        }
      ]
    },
    {
      "cell_type": "code",
      "metadata": {
        "colab": {
          "base_uri": "https://localhost:8080/"
        },
        "id": "KGi-sIAPwlKJ",
        "outputId": "8cfc5aec-0f4a-49db-917d-fb0b99c09cd7"
      },
      "source": [
        "# add methods\n",
        "\n",
        "class Student2(Person):\n",
        "  def __init__(abc4, fname, lname, year):\n",
        "    super().__init__(fname, lname)\n",
        "    abc4.graduationyear = year\n",
        "  \n",
        "  \"\"\"If you add a method in the child class with the same name as a function \n",
        "  in the parent class, the inheritance of the parent method will\n",
        "  be overridden.\n",
        "  \"\"\"\n",
        "  def welcome(self):\n",
        "    print(\"Welcome\", self.firstname, self.lastname, \"to the class of \", self.graduationyear)\n",
        "\n",
        "x = Student2(\"Mike\", \"Sui\", 78)\n",
        "x.welcome()"
      ],
      "execution_count": 18,
      "outputs": [
        {
          "output_type": "stream",
          "text": [
            "Welcome Mike Sui to the class of  78\n"
          ],
          "name": "stdout"
        }
      ]
    },
    {
      "cell_type": "code",
      "metadata": {
        "colab": {
          "base_uri": "https://localhost:8080/"
        },
        "id": "8RJTgi10-Uq9",
        "outputId": "0e353685-9cd2-4a0e-c0ac-304b448a672b"
      },
      "source": [
        "# Iterator\n",
        "\n",
        "mytuple = (\"apple\", \"banana\", \"cherry\")\n",
        "myit = iter(mytuple)\n",
        "\n",
        "print(next(myit))\n",
        "print(next(myit))\n",
        "print(next(myit))"
      ],
      "execution_count": 19,
      "outputs": [
        {
          "output_type": "stream",
          "text": [
            "apple\n",
            "banana\n",
            "cherry\n"
          ],
          "name": "stdout"
        }
      ]
    },
    {
      "cell_type": "code",
      "metadata": {
        "colab": {
          "base_uri": "https://localhost:8080/"
        },
        "id": "VGuiFTL5_s7V",
        "outputId": "b3ee24ab-6c3d-400d-c4d6-22039d96620e"
      },
      "source": [
        "mystr = \"banana\"\n",
        "myit = iter(mystr)\n",
        "\n",
        "print(next(myit))\n",
        "print(next(myit))\n",
        "print(next(myit))\n",
        "print(next(myit))\n",
        "print(next(myit))\n",
        "print(next(myit))"
      ],
      "execution_count": 20,
      "outputs": [
        {
          "output_type": "stream",
          "text": [
            "b\n",
            "a\n",
            "n\n",
            "a\n",
            "n\n",
            "a\n"
          ],
          "name": "stdout"
        }
      ]
    },
    {
      "cell_type": "code",
      "metadata": {
        "colab": {
          "base_uri": "https://localhost:8080/"
        },
        "id": "1gTZuNbqBujK",
        "outputId": "f93ff0df-f4ea-484c-98e8-f726e5df4906"
      },
      "source": [
        "mytuple = (\"apple\", \"banana\", \"cherry\")\n",
        "\n",
        "for x in mytuple:\n",
        "  print(x)"
      ],
      "execution_count": 21,
      "outputs": [
        {
          "output_type": "stream",
          "text": [
            "apple\n",
            "banana\n",
            "cherry\n"
          ],
          "name": "stdout"
        }
      ]
    },
    {
      "cell_type": "code",
      "metadata": {
        "colab": {
          "base_uri": "https://localhost:8080/"
        },
        "id": "abNb_CxVCNPO",
        "outputId": "a576b0ea-7717-457c-dca1-6bb792787df6"
      },
      "source": [
        "class MyNumbers:\n",
        "  def __iter__(self): #  self shows oject\n",
        "    self.a = 1\n",
        "    return self\n",
        "  \n",
        "  def __next__(self): # self shows oject\n",
        "    x = self.a\n",
        "    self.a += 1\n",
        "    return x\n",
        "\n",
        "myclass = MyNumbers()\n",
        "myiter =iter(myclass)\n",
        "\n",
        "print(next(myiter))\n",
        "print(next(myiter))\n",
        "print(next(myiter))\n",
        "print(next(myiter))\n",
        "print(next(myiter))"
      ],
      "execution_count": 28,
      "outputs": [
        {
          "output_type": "stream",
          "text": [
            "2\n",
            "3\n",
            "4\n",
            "5\n",
            "6\n"
          ],
          "name": "stdout"
        }
      ]
    },
    {
      "cell_type": "code",
      "metadata": {
        "colab": {
          "base_uri": "https://localhost:8080/"
        },
        "id": "egmPv7YQFxe_",
        "outputId": "ff9aaff7-3bcb-4099-d0b1-b17e76985f67"
      },
      "source": [
        "class MyNumbers1:\n",
        "  def __iter__(A):\n",
        "    A.a = 1\n",
        "    return A\n",
        "  \n",
        "  def __next__(B):\n",
        "    if B.a <= 20:\n",
        "      x = B.a\n",
        "      B.a += 1\n",
        "      return x\n",
        "    else:\n",
        "      raise StopIteration\n",
        "\n",
        "myclass = MyNumbers1()\n",
        "myiter = iter(myclass)\n",
        "\n",
        "for x in myiter:\n",
        "  print(x)"
      ],
      "execution_count": 34,
      "outputs": [
        {
          "output_type": "stream",
          "text": [
            "1\n",
            "2\n",
            "3\n",
            "4\n",
            "5\n",
            "6\n",
            "7\n",
            "8\n",
            "9\n",
            "10\n",
            "11\n",
            "12\n",
            "13\n",
            "14\n",
            "15\n",
            "16\n",
            "17\n",
            "18\n",
            "19\n",
            "20\n"
          ],
          "name": "stdout"
        }
      ]
    },
    {
      "cell_type": "code",
      "metadata": {
        "colab": {
          "base_uri": "https://localhost:8080/"
        },
        "id": "DZmMCUmjKDuc",
        "outputId": "b82241df-f8be-42b3-bc64-c7e81edca630"
      },
      "source": [
        "# Scope\n",
        "\n",
        "def myfunc():\n",
        "  x = 300\n",
        "  print(x)\n",
        "\n",
        "myfunc()"
      ],
      "execution_count": 35,
      "outputs": [
        {
          "output_type": "stream",
          "text": [
            "300\n"
          ],
          "name": "stdout"
        }
      ]
    },
    {
      "cell_type": "code",
      "metadata": {
        "colab": {
          "base_uri": "https://localhost:8080/"
        },
        "id": "7N_HWLlRKaMd",
        "outputId": "f667e4e9-3087-4e47-9e17-d36ade693303"
      },
      "source": [
        "def myfunc():\n",
        "  x = 300\n",
        "  def myinnerfunc():\n",
        "    print(x)\n",
        "  myinnerfunc()\n",
        "\n",
        "myfunc()"
      ],
      "execution_count": 36,
      "outputs": [
        {
          "output_type": "stream",
          "text": [
            "300\n"
          ],
          "name": "stdout"
        }
      ]
    },
    {
      "cell_type": "code",
      "metadata": {
        "colab": {
          "base_uri": "https://localhost:8080/"
        },
        "id": "cni_dLv1Kol9",
        "outputId": "b1d9fb3e-c2eb-4212-f0aa-59c86efacd5c"
      },
      "source": [
        "#global variable\n",
        "\n",
        "x = 300\n",
        "\n",
        "def myfunc():\n",
        "  print(x)\n",
        "\n",
        "myfunc()\n",
        "\n",
        "print(x)"
      ],
      "execution_count": 38,
      "outputs": [
        {
          "output_type": "stream",
          "text": [
            "200\n",
            "200\n"
          ],
          "name": "stdout"
        }
      ]
    },
    {
      "cell_type": "code",
      "metadata": {
        "colab": {
          "base_uri": "https://localhost:8080/"
        },
        "id": "YNyidouOK_us",
        "outputId": "06eb6843-c6a6-48a3-eba5-55ecc09f5a9a"
      },
      "source": [
        "x = 400\n",
        "\n",
        "def myFunc():\n",
        "  x = 200\n",
        "  print(x)\n",
        "\n",
        "myFunc()\n",
        "\n",
        "print(x)"
      ],
      "execution_count": 39,
      "outputs": [
        {
          "output_type": "stream",
          "text": [
            "200\n",
            "400\n"
          ],
          "name": "stdout"
        }
      ]
    },
    {
      "cell_type": "code",
      "metadata": {
        "colab": {
          "base_uri": "https://localhost:8080/"
        },
        "id": "P4jrUfQqLNcc",
        "outputId": "6fc2a459-9bc9-4ee7-ba5e-57f7554d08d7"
      },
      "source": [
        "def myFunc():\n",
        "  global x\n",
        "  x = 300\n",
        "\n",
        "myFunc()\n",
        "\n",
        "print(x)"
      ],
      "execution_count": 40,
      "outputs": [
        {
          "output_type": "stream",
          "text": [
            "300\n"
          ],
          "name": "stdout"
        }
      ]
    },
    {
      "cell_type": "code",
      "metadata": {
        "colab": {
          "base_uri": "https://localhost:8080/"
        },
        "id": "obuHpjpcLkw1",
        "outputId": "e4e96123-91c9-482c-d7d6-e85a8f9bb703"
      },
      "source": [
        "x = 300\n",
        "\n",
        "def myFunc():\n",
        "  global x \n",
        "  x = 250\n",
        "\n",
        "myFunc()\n",
        "\n",
        "print(x)"
      ],
      "execution_count": 42,
      "outputs": [
        {
          "output_type": "stream",
          "text": [
            "250\n"
          ],
          "name": "stdout"
        }
      ]
    },
    {
      "cell_type": "code",
      "metadata": {
        "colab": {
          "base_uri": "https://localhost:8080/"
        },
        "id": "0h7rJ8MaTsb6",
        "outputId": "b01a1d44-89f6-497a-979d-d84616788cdb"
      },
      "source": [
        "\"\"\" 自己写出来\n",
        "\"\"\"\n",
        "def greeting(name):\n",
        "  print(\"Hello, \" + name)\n",
        "\n",
        "person1 = {\n",
        "    \"name\": \"John\",\n",
        "    \"age\": 36,\n",
        "    \"country\": \"Norway\"\n",
        "}\n",
        "\n",
        "name1 = person1[\"name\"]\n",
        "greeting(name1)\n",
        "#print(greeting(name1))"
      ],
      "execution_count": 61,
      "outputs": [
        {
          "output_type": "stream",
          "text": [
            "Hello, John\n"
          ],
          "name": "stdout"
        }
      ]
    },
    {
      "cell_type": "code",
      "metadata": {
        "colab": {
          "base_uri": "https://localhost:8080/"
        },
        "id": "aj9vEtbssYI_",
        "outputId": "3686a6b4-0941-4ba2-ec42-1517d83f9eae"
      },
      "source": [
        "# Dates\n",
        "\n",
        "import datetime\n",
        "\n",
        "x = datetime.datetime.now()\n",
        "\n",
        "print(x)"
      ],
      "execution_count": 62,
      "outputs": [
        {
          "output_type": "stream",
          "text": [
            "2021-04-14 04:44:31.562594\n"
          ],
          "name": "stdout"
        }
      ]
    },
    {
      "cell_type": "code",
      "metadata": {
        "colab": {
          "base_uri": "https://localhost:8080/"
        },
        "id": "XW8ytJY4srTf",
        "outputId": "5970eac5-0488-4764-adb7-2002bf96828c"
      },
      "source": [
        "import datetime\n",
        "\n",
        "x = datetime.datetime.now()\n",
        "\n",
        "print(x.year)\n",
        "print(x.month)\n",
        "print(x.strftime(\"%Y\"))"
      ],
      "execution_count": 79,
      "outputs": [
        {
          "output_type": "stream",
          "text": [
            "2021\n",
            "4\n",
            "2021\n"
          ],
          "name": "stdout"
        }
      ]
    },
    {
      "cell_type": "code",
      "metadata": {
        "colab": {
          "base_uri": "https://localhost:8080/"
        },
        "id": "qELpKDmqs_nY",
        "outputId": "a8f9728e-37a9-4b8b-fa29-aa229dcf19b7"
      },
      "source": [
        "import datetime\n",
        "\n",
        "x = datetime.datetime(2020, 5, 17)\n",
        "\n",
        "print(x)"
      ],
      "execution_count": 64,
      "outputs": [
        {
          "output_type": "stream",
          "text": [
            "2020-05-17 00:00:00\n"
          ],
          "name": "stdout"
        }
      ]
    },
    {
      "cell_type": "code",
      "metadata": {
        "colab": {
          "base_uri": "https://localhost:8080/"
        },
        "id": "wZSfEKEDuTpN",
        "outputId": "dbae20d8-2470-483b-892a-a9b85bf589d7"
      },
      "source": [
        "# Math\n",
        "\n",
        "import math\n",
        "\n",
        "x = math.sqrt(64)\n",
        "\n",
        "print(x)"
      ],
      "execution_count": 80,
      "outputs": [
        {
          "output_type": "stream",
          "text": [
            "8.0\n"
          ],
          "name": "stdout"
        }
      ]
    },
    {
      "cell_type": "code",
      "metadata": {
        "colab": {
          "base_uri": "https://localhost:8080/"
        },
        "id": "8ZO7fJL2ugjZ",
        "outputId": "d1702f71-5141-4ccf-831a-fffc3f10ed93"
      },
      "source": [
        "import math\n",
        "\n",
        "x = math.ceil(1.4)\n",
        "y = math.floor(1.4)\n",
        "\n",
        "print(x) # math.ceil() method rounds a number upwards to its nearest integer\n",
        "print(y) # math.floor() method rounds a number downwards to its nearest integer"
      ],
      "execution_count": 81,
      "outputs": [
        {
          "output_type": "stream",
          "text": [
            "2\n",
            "1\n"
          ],
          "name": "stdout"
        }
      ]
    },
    {
      "cell_type": "code",
      "metadata": {
        "colab": {
          "base_uri": "https://localhost:8080/"
        },
        "id": "g1FTGpA7vDIg",
        "outputId": "754a5a24-2695-47d1-f060-b007cba82eab"
      },
      "source": [
        "import math\n",
        "\n",
        "x = math.pi\n",
        "y= math.ceil(x)\n",
        "\n",
        "print(y)"
      ],
      "execution_count": 85,
      "outputs": [
        {
          "output_type": "stream",
          "text": [
            "4\n"
          ],
          "name": "stdout"
        }
      ]
    },
    {
      "cell_type": "code",
      "metadata": {
        "colab": {
          "base_uri": "https://localhost:8080/"
        },
        "id": "bczYRdFUyQ81",
        "outputId": "8565e1dc-3714-440d-de80-208cf26825c5"
      },
      "source": [
        "import json\n",
        "\n",
        "# some JSON:\n",
        "x = '{\"name\": \"John\", \"age\": 30, \"city\": \"SanFrancisco\"}'\n",
        "\n",
        "# parse解析 x:\n",
        "y = json.loads(x)\n",
        "\n",
        "print(y[\"age\"])"
      ],
      "execution_count": 86,
      "outputs": [
        {
          "output_type": "stream",
          "text": [
            "30\n"
          ],
          "name": "stdout"
        }
      ]
    },
    {
      "cell_type": "code",
      "metadata": {
        "colab": {
          "base_uri": "https://localhost:8080/"
        },
        "id": "OzLVgRyCzFp9",
        "outputId": "b666112a-3981-4b30-9f08-171e0af5b367"
      },
      "source": [
        "import json\n",
        "\n",
        "x = {\n",
        "    \"name\": \"David\",\n",
        "     \"age\": 35,\n",
        "     \"city\": \"Los Angeles\"\n",
        "}\n",
        "\n",
        "y = json.dumps(x)\n",
        "\n",
        "print(y)"
      ],
      "execution_count": 87,
      "outputs": [
        {
          "output_type": "stream",
          "text": [
            "{\"name\": \"David\", \"age\": 35, \"city\": \"Los Angeles\"}\n"
          ],
          "name": "stdout"
        }
      ]
    },
    {
      "cell_type": "code",
      "metadata": {
        "colab": {
          "base_uri": "https://localhost:8080/"
        },
        "id": "8sq9xUA8zuGm",
        "outputId": "050b12a4-4908-4efd-e48a-7e3cba015f02"
      },
      "source": [
        "import json\n",
        "\n",
        "print(json.dumps({\"name\": \"Amy\", \"age\": 23})) #dic\n",
        "print(json.dumps([\"apple\", \"banana\", \"pear\"])) #list\n",
        "print(json.dumps(('apple', 'pear', 'banana'))) #tuple\n",
        "#print(json.dumps({'banana', 'apple', 'pear'})) #set\n",
        "print(json.dumps(4)) #int\n",
        "print(json.dumps(4.5)) #float\n",
        "print(json.dumps(True)) #Bool\n",
        "print(json.dumps(None)) #None\n",
        "print(json.dumps(False))"
      ],
      "execution_count": 89,
      "outputs": [
        {
          "output_type": "stream",
          "text": [
            "{\"name\": \"Amy\", \"age\": 23}\n",
            "[\"apple\", \"banana\", \"pear\"]\n",
            "[\"apple\", \"pear\", \"banana\"]\n",
            "4\n",
            "4.5\n",
            "true\n",
            "null\n",
            "false\n"
          ],
          "name": "stdout"
        }
      ]
    }
  ]
}