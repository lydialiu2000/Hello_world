{
  "nbformat": 4,
  "nbformat_minor": 0,
  "metadata": {
    "colab": {
      "name": "Day23_Scipy.ipynb",
      "provenance": [],
      "authorship_tag": "ABX9TyPmXfnLzoE36GEpEu0d1hfr",
      "include_colab_link": true
    },
    "kernelspec": {
      "name": "python3",
      "display_name": "Python 3"
    },
    "language_info": {
      "name": "python"
    }
  },
  "cells": [
    {
      "cell_type": "markdown",
      "metadata": {
        "id": "view-in-github",
        "colab_type": "text"
      },
      "source": [
        "<a href=\"https://colab.research.google.com/github/lydialiu2000/Hello_world/blob/main/Day23_Scipy.ipynb\" target=\"_parent\"><img src=\"https://colab.research.google.com/assets/colab-badge.svg\" alt=\"Open In Colab\"/></a>"
      ]
    },
    {
      "cell_type": "code",
      "metadata": {
        "colab": {
          "base_uri": "https://localhost:8080/"
        },
        "id": "IGs7eXRAhO8l",
        "outputId": "86412a67-3528-4bcb-e6ca-b7f127f0b856"
      },
      "source": [
        "from scipy import constants\n",
        "\n",
        "print(constants.liter)"
      ],
      "execution_count": 1,
      "outputs": [
        {
          "output_type": "stream",
          "text": [
            "0.001\n"
          ],
          "name": "stdout"
        }
      ]
    },
    {
      "cell_type": "code",
      "metadata": {
        "colab": {
          "base_uri": "https://localhost:8080/"
        },
        "id": "-ahq2TW7iWu7",
        "outputId": "0d7fbfc9-e331-4103-9883-324388d592b9"
      },
      "source": [
        "import scipy\n",
        "\n",
        "print(scipy.__version__)"
      ],
      "execution_count": 2,
      "outputs": [
        {
          "output_type": "stream",
          "text": [
            "1.4.1\n"
          ],
          "name": "stdout"
        }
      ]
    },
    {
      "cell_type": "code",
      "metadata": {
        "colab": {
          "base_uri": "https://localhost:8080/"
        },
        "id": "rW9OK1Rxilsg",
        "outputId": "1ae64a2a-6042-4f6e-f7b8-b13292c78bda"
      },
      "source": [
        "from scipy import constants\n",
        "\n",
        "print(constants.pi)"
      ],
      "execution_count": 3,
      "outputs": [
        {
          "output_type": "stream",
          "text": [
            "3.141592653589793\n"
          ],
          "name": "stdout"
        }
      ]
    },
    {
      "cell_type": "code",
      "metadata": {
        "colab": {
          "base_uri": "https://localhost:8080/"
        },
        "id": "H9oyjPHWi2go",
        "outputId": "61369cc3-095d-4e6e-d8a0-521d53098de0"
      },
      "source": [
        "from scipy import constants\n",
        "\n",
        "print(dir(constants))"
      ],
      "execution_count": 4,
      "outputs": [
        {
          "output_type": "stream",
          "text": [
            "['Avogadro', 'Boltzmann', 'Btu', 'Btu_IT', 'Btu_th', 'ConstantWarning', 'G', 'Julian_year', 'N_A', 'Planck', 'R', 'Rydberg', 'Stefan_Boltzmann', 'Wien', '__all__', '__builtins__', '__cached__', '__doc__', '__file__', '__loader__', '__name__', '__package__', '__path__', '__spec__', '_obsolete_constants', 'absolute_import', 'acre', 'alpha', 'angstrom', 'arcmin', 'arcminute', 'arcsec', 'arcsecond', 'astronomical_unit', 'atm', 'atmosphere', 'atomic_mass', 'atto', 'au', 'bar', 'barrel', 'bbl', 'blob', 'c', 'calorie', 'calorie_IT', 'calorie_th', 'carat', 'centi', 'codata', 'constants', 'convert_temperature', 'day', 'deci', 'degree', 'degree_Fahrenheit', 'deka', 'division', 'dyn', 'dyne', 'e', 'eV', 'electron_mass', 'electron_volt', 'elementary_charge', 'epsilon_0', 'erg', 'exa', 'exbi', 'femto', 'fermi', 'find', 'fine_structure', 'fluid_ounce', 'fluid_ounce_US', 'fluid_ounce_imp', 'foot', 'g', 'gallon', 'gallon_US', 'gallon_imp', 'gas_constant', 'gibi', 'giga', 'golden', 'golden_ratio', 'grain', 'gram', 'gravitational_constant', 'h', 'hbar', 'hectare', 'hecto', 'horsepower', 'hour', 'hp', 'inch', 'k', 'kgf', 'kibi', 'kilo', 'kilogram_force', 'kmh', 'knot', 'lambda2nu', 'lb', 'lbf', 'light_year', 'liter', 'litre', 'long_ton', 'm_e', 'm_n', 'm_p', 'm_u', 'mach', 'mebi', 'mega', 'metric_ton', 'micro', 'micron', 'mil', 'mile', 'milli', 'minute', 'mmHg', 'mph', 'mu_0', 'nano', 'nautical_mile', 'neutron_mass', 'nu2lambda', 'ounce', 'oz', 'parsec', 'pebi', 'peta', 'physical_constants', 'pi', 'pico', 'point', 'pound', 'pound_force', 'precision', 'print_function', 'proton_mass', 'psi', 'pt', 'short_ton', 'sigma', 'slinch', 'slug', 'speed_of_light', 'speed_of_sound', 'stone', 'survey_foot', 'survey_mile', 'tebi', 'tera', 'test', 'ton_TNT', 'torr', 'troy_ounce', 'troy_pound', 'u', 'unit', 'value', 'week', 'yard', 'year', 'yobi', 'yotta', 'zebi', 'zepto', 'zero_Celsius', 'zetta']\n"
          ],
          "name": "stdout"
        }
      ]
    },
    {
      "cell_type": "code",
      "metadata": {
        "colab": {
          "base_uri": "https://localhost:8080/"
        },
        "id": "oPlnv0aumrk_",
        "outputId": "1074881e-955e-4f8f-9c33-e4c2a556b965"
      },
      "source": [
        "#Scipy Optimizers\n",
        "from scipy.optimize import root\n",
        "from math import cos\n",
        "\n",
        "def eqn(x):\n",
        "  return x + cos(x)\n",
        "\n",
        "myroot = root(eqn, 0)\n",
        "\n",
        "print(myroot.x)\n",
        "print(myroot)"
      ],
      "execution_count": 7,
      "outputs": [
        {
          "output_type": "stream",
          "text": [
            "[-0.73908513]\n",
            "    fjac: array([[-1.]])\n",
            "     fun: array([0.])\n",
            " message: 'The solution converged.'\n",
            "    nfev: 9\n",
            "     qtf: array([-2.66786593e-13])\n",
            "       r: array([-1.67361202])\n",
            "  status: 1\n",
            " success: True\n",
            "       x: array([-0.73908513])\n"
          ],
          "name": "stdout"
        }
      ]
    },
    {
      "cell_type": "code",
      "metadata": {
        "colab": {
          "base_uri": "https://localhost:8080/"
        },
        "id": "vqD9wesanot2",
        "outputId": "91bf54ae-47d9-47c1-8419-4cd3d6aaec75"
      },
      "source": [
        "from scipy.optimize import  root\n",
        "from math import sin\n",
        "\n",
        "def eqn(x):\n",
        "  return x + sin(x)\n",
        "\n",
        "myroot = root(eqn, 0)\n",
        "\n",
        "print(myroot.x)\n",
        "print(myroot)"
      ],
      "execution_count": 10,
      "outputs": [
        {
          "output_type": "stream",
          "text": [
            "[0.]\n",
            "    fjac: array([[-1.]])\n",
            "     fun: array([0.])\n",
            " message: 'The solution converged.'\n",
            "    nfev: 3\n",
            "     qtf: array([0.])\n",
            "       r: array([-2.])\n",
            "  status: 1\n",
            " success: True\n",
            "       x: array([0.])\n"
          ],
          "name": "stdout"
        }
      ]
    },
    {
      "cell_type": "code",
      "metadata": {
        "colab": {
          "base_uri": "https://localhost:8080/"
        },
        "id": "Q2GgT9QIomxD",
        "outputId": "97f1a8a7-452c-47fd-e8bb-08844d24a2a6"
      },
      "source": [
        "from scipy.optimize import minimize\n",
        "\n",
        "def eqn(x):\n",
        "  return x**2 + x + 2\n",
        "\n",
        "mymin = minimize(eqn, 0, method='BFGS')\n",
        "\n",
        "print(mymin)"
      ],
      "execution_count": 11,
      "outputs": [
        {
          "output_type": "stream",
          "text": [
            "      fun: 1.75\n",
            " hess_inv: array([[0.50000001]])\n",
            "      jac: array([0.])\n",
            "  message: 'Optimization terminated successfully.'\n",
            "     nfev: 12\n",
            "      nit: 2\n",
            "     njev: 4\n",
            "   status: 0\n",
            "  success: True\n",
            "        x: array([-0.50000001])\n"
          ],
          "name": "stdout"
        }
      ]
    },
    {
      "cell_type": "code",
      "metadata": {
        "colab": {
          "base_uri": "https://localhost:8080/"
        },
        "id": "jz3S0hPksDa1",
        "outputId": "7d595c16-2a83-46d4-9a31-eec1d13d13f3"
      },
      "source": [
        "#Sparse Data\n",
        "import numpy as np\n",
        "from scipy.sparse import csr_matrix\n",
        "\n",
        "arr = np.array([0, 0, 0, 0, 0, 1, 1, 0, 2])\n",
        "\n",
        "print(csr_matrix(arr))"
      ],
      "execution_count": 12,
      "outputs": [
        {
          "output_type": "stream",
          "text": [
            "  (0, 5)\t1\n",
            "  (0, 6)\t1\n",
            "  (0, 8)\t2\n"
          ],
          "name": "stdout"
        }
      ]
    },
    {
      "cell_type": "code",
      "metadata": {
        "colab": {
          "base_uri": "https://localhost:8080/"
        },
        "id": "5NUEOhTasyRc",
        "outputId": "948e9936-a691-4837-b177-98e0bcae867b"
      },
      "source": [
        "import numpy as np\n",
        "from scipy.sparse import csr_matrix\n",
        "\n",
        "arr = np.array([[0,0,0], [0,0,1], [1,0,2]])\n",
        "\n",
        "print(csr_matrix(arr).data)"
      ],
      "execution_count": 13,
      "outputs": [
        {
          "output_type": "stream",
          "text": [
            "[1 1 2]\n"
          ],
          "name": "stdout"
        }
      ]
    },
    {
      "cell_type": "code",
      "metadata": {
        "colab": {
          "base_uri": "https://localhost:8080/"
        },
        "id": "UpD5GmFwtJBl",
        "outputId": "ae5ba602-e630-45f2-e1ac-2b084c8fd670"
      },
      "source": [
        "# count_nonzero()\n",
        "import numpy as np\n",
        "from scipy.sparse import csr_matrix\n",
        "\n",
        "arr = np.array([[0,0,0], [0,0,1], [1,0,2]])\n",
        "\n",
        "print(csr_matrix(arr).count_nonzero())"
      ],
      "execution_count": 14,
      "outputs": [
        {
          "output_type": "stream",
          "text": [
            "3\n"
          ],
          "name": "stdout"
        }
      ]
    },
    {
      "cell_type": "code",
      "metadata": {
        "colab": {
          "base_uri": "https://localhost:8080/"
        },
        "id": "NS90UgUbtY7g",
        "outputId": "15fe6914-b66f-45fe-e631-a977d3290cce"
      },
      "source": [
        "# eliminate_zeros()\n",
        "import numpy as np\n",
        "from scipy.sparse import csr_matrix\n",
        "\n",
        "arr = np.array([[0,0,0], [0,0,1], [1,0,2]])\n",
        "\n",
        "mat = csr_matrix(arr)\n",
        "mat.eliminate_zeros()\n",
        "\n",
        "print(mat)"
      ],
      "execution_count": 16,
      "outputs": [
        {
          "output_type": "stream",
          "text": [
            "  (1, 2)\t1\n",
            "  (2, 0)\t1\n",
            "  (2, 2)\t2\n"
          ],
          "name": "stdout"
        }
      ]
    },
    {
      "cell_type": "code",
      "metadata": {
        "colab": {
          "base_uri": "https://localhost:8080/"
        },
        "id": "FeGKhQJ72WtV",
        "outputId": "5873201c-72bc-40c4-a23d-1effe6761d69"
      },
      "source": [
        "# tocsc()\n",
        "import numpy as np\n",
        "from scipy.sparse import csr_matrix\n",
        "\n",
        "arr = np.array([[0,0,0], [0,0,1], [1,0,2]])\n",
        "\n",
        "mat = csr_matrix(arr)\n",
        "mat.sum_duplicates()\n",
        "\n",
        "print(mat)"
      ],
      "execution_count": 18,
      "outputs": [
        {
          "output_type": "stream",
          "text": [
            "  (1, 2)\t1\n",
            "  (2, 0)\t1\n",
            "  (2, 2)\t2\n"
          ],
          "name": "stdout"
        }
      ]
    },
    {
      "cell_type": "code",
      "metadata": {
        "colab": {
          "base_uri": "https://localhost:8080/"
        },
        "id": "0yUI3n0c9kQa",
        "outputId": "f5376803-ee22-465b-cc87-56d5678df7bc"
      },
      "source": [
        "import numpy as np\n",
        "from scipy.sparse import csr_matrix\n",
        "\n",
        "arr = np.array([[0,0,0], [0,0,1], [1,0,2]])\n",
        "\n",
        "newarr = csr_matrix(arr).tocsc()\n",
        "\n",
        "print(newarr)"
      ],
      "execution_count": 19,
      "outputs": [
        {
          "output_type": "stream",
          "text": [
            "  (2, 0)\t1\n",
            "  (1, 2)\t1\n",
            "  (2, 2)\t2\n"
          ],
          "name": "stdout"
        }
      ]
    }
  ]
}