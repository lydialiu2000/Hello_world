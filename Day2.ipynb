{
  "nbformat": 4,
  "nbformat_minor": 0,
  "metadata": {
    "colab": {
      "name": "Day2.ipynb",
      "provenance": [],
      "authorship_tag": "ABX9TyOY+NMCQwRzoG7VKmm6iubS",
      "include_colab_link": true
    },
    "kernelspec": {
      "name": "python3",
      "display_name": "Python 3"
    }
  },
  "cells": [
    {
      "cell_type": "markdown",
      "metadata": {
        "id": "view-in-github",
        "colab_type": "text"
      },
      "source": [
        "<a href=\"https://colab.research.google.com/github/lydialiu2000/Hello_world/blob/main/Day2.ipynb\" target=\"_parent\"><img src=\"https://colab.research.google.com/assets/colab-badge.svg\" alt=\"Open In Colab\"/></a>"
      ]
    },
    {
      "cell_type": "code",
      "metadata": {
        "colab": {
          "base_uri": "https://localhost:8080/"
        },
        "id": "he8RIa1odm3W",
        "outputId": "f7d01675-2bb8-4a65-d74f-f832ede2d375"
      },
      "source": [
        "def basic_math(a, b):\n",
        "  plus1 = a + b\n",
        "  minu1 = a - b\n",
        "  mult1 = a * b\n",
        "  divi1 = a / b\n",
        "  # divi2 = int(a / b)\n",
        "  divi2 = a // b\n",
        "  mod1 = a % b\n",
        "\n",
        "  print(plus1, minu1, mult1, divi1, divi2, mod1)\n",
        "\n",
        "basic_math(10, 3)\n",
        "\n"
      ],
      "execution_count": 8,
      "outputs": [
        {
          "output_type": "stream",
          "text": [
            "13 7 30 3.3333333333333335 3 1\n"
          ],
          "name": "stdout"
        }
      ]
    }
  ]
}