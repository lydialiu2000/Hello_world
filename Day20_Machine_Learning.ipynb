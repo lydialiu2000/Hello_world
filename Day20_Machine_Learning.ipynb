{
  "nbformat": 4,
  "nbformat_minor": 0,
  "metadata": {
    "colab": {
      "name": "Day20_Machine Learning.ipynb",
      "provenance": [],
      "authorship_tag": "ABX9TyMwxc5LktrJ6awTg9/bnmUI",
      "include_colab_link": true
    },
    "kernelspec": {
      "name": "python3",
      "display_name": "Python 3"
    },
    "language_info": {
      "name": "python"
    }
  },
  "cells": [
    {
      "cell_type": "markdown",
      "metadata": {
        "id": "view-in-github",
        "colab_type": "text"
      },
      "source": [
        "<a href=\"https://colab.research.google.com/github/lydialiu2000/Hello_world/blob/main/Day20_Machine_Learning.ipynb\" target=\"_parent\"><img src=\"https://colab.research.google.com/assets/colab-badge.svg\" alt=\"Open In Colab\"/></a>"
      ]
    },
    {
      "cell_type": "code",
      "metadata": {
        "colab": {
          "base_uri": "https://localhost:8080/"
        },
        "id": "YpEFxUAaeBdf",
        "outputId": "aa28ac99-5f97-4514-c6d5-b8ba044a01e8"
      },
      "source": [
        "#mean\n",
        "import numpy\n",
        "\n",
        "speed = [99, 86, 87, 88, 111, 86,103,87,94,78,77,85,86]\n",
        "\n",
        "x1 = numpy.mean(speed)\n",
        "x2 = numpy.median(speed)\n",
        "#x3 = numpy.mode(speed)\n",
        "\n",
        "print(x1)\n",
        "print(x2)"
      ],
      "execution_count": 7,
      "outputs": [
        {
          "output_type": "stream",
          "text": [
            "89.76923076923077\n",
            "87.0\n"
          ],
          "name": "stdout"
        }
      ]
    },
    {
      "cell_type": "code",
      "metadata": {
        "colab": {
          "base_uri": "https://localhost:8080/"
        },
        "id": "q3bC2jH_ez0T",
        "outputId": "aa370d6f-836d-47df-e3a5-600dbe9b33cb"
      },
      "source": [
        "from scipy import  stats\n",
        "\n",
        "speed = [99, 86, 87, 88, 111, 86,103,87,94,78,77,85,86]\n",
        "\n",
        "x = stats.mode(speed)\n",
        "\n",
        "print(x)"
      ],
      "execution_count": 8,
      "outputs": [
        {
          "output_type": "stream",
          "text": [
            "ModeResult(mode=array([86]), count=array([3]))\n"
          ],
          "name": "stdout"
        }
      ]
    },
    {
      "cell_type": "code",
      "metadata": {
        "colab": {
          "base_uri": "https://localhost:8080/"
        },
        "id": "L08pvMwefYcf",
        "outputId": "32d28b78-30e2-4f2d-ce14-d026bb40495e"
      },
      "source": [
        "#standard deviation\n",
        "import numpy\n",
        "\n",
        "speed = [86,87,88,86,87,85,86]\n",
        "\n",
        "x = numpy.std(speed)\n",
        "\n",
        "print(x)"
      ],
      "execution_count": 9,
      "outputs": [
        {
          "output_type": "stream",
          "text": [
            "0.9035079029052513\n"
          ],
          "name": "stdout"
        }
      ]
    },
    {
      "cell_type": "code",
      "metadata": {
        "colab": {
          "base_uri": "https://localhost:8080/"
        },
        "id": "Sw0A8n8dfkqw",
        "outputId": "21c6ea85-37e1-40a8-d92e-280cc04d519c"
      },
      "source": [
        "import numpy\n",
        "\n",
        "speed = [32,111,138,28,59,77,97]\n",
        "\n",
        "x = numpy.std(speed)\n",
        "\n",
        "print(x)"
      ],
      "execution_count": 12,
      "outputs": [
        {
          "output_type": "stream",
          "text": [
            "37.84501153334721\n"
          ],
          "name": "stdout"
        }
      ]
    },
    {
      "cell_type": "code",
      "metadata": {
        "colab": {
          "base_uri": "https://localhost:8080/"
        },
        "id": "4342BewDjpt_",
        "outputId": "392cb2fb-2717-430c-eeb7-7f4889a391f8"
      },
      "source": [
        "import numpy as ny\n",
        "\n",
        "speed = [32,111,138,28,59,77,97]\n",
        "\n",
        "x = numpy.var(speed)\n",
        "y = numpy.std(speed)\n",
        "\n",
        "print(x)\n",
        "print(y)"
      ],
      "execution_count": 14,
      "outputs": [
        {
          "output_type": "stream",
          "text": [
            "1432.2448979591834\n",
            "37.84501153334721\n"
          ],
          "name": "stdout"
        }
      ]
    },
    {
      "cell_type": "code",
      "metadata": {
        "colab": {
          "base_uri": "https://localhost:8080/"
        },
        "id": "QqC-ZO3ClVNN",
        "outputId": "aaac45fb-8505-48f9-c0d7-45c113254df2"
      },
      "source": [
        "#percentile\n",
        "\n",
        "import numpy\n",
        "\n",
        "ages = [5,31,43,48,50,41,7,11,15,39,80,82,32,2,8,6,25,36,27,61,31]\n",
        "\n",
        "x = numpy.percentile(ages, 75)\n",
        "\n",
        "print(x)"
      ],
      "execution_count": 15,
      "outputs": [
        {
          "output_type": "stream",
          "text": [
            "43.0\n"
          ],
          "name": "stdout"
        }
      ]
    },
    {
      "cell_type": "code",
      "metadata": {
        "colab": {
          "base_uri": "https://localhost:8080/"
        },
        "id": "8Y4sKlxHljX8",
        "outputId": "b22dd28a-1f56-4ce9-c3d8-4ffb4b9c16b1"
      },
      "source": [
        "import numpy as np\n",
        "\n",
        "ages = [5,31,43,48,50,41,7,11,15,39,80,82,32,2,8,6,25,36,27,61,31]\n",
        "\n",
        "x = np.percentile(ages, 90)\n",
        "\n",
        "print(x)"
      ],
      "execution_count": 16,
      "outputs": [
        {
          "output_type": "stream",
          "text": [
            "61.0\n"
          ],
          "name": "stdout"
        }
      ]
    },
    {
      "cell_type": "code",
      "metadata": {
        "colab": {
          "base_uri": "https://localhost:8080/"
        },
        "id": "5NXkGb0hmDxr",
        "outputId": "09a299c9-e84e-49e9-9117-4a7d9fd6c682"
      },
      "source": [
        "#Data Distribution\n",
        "\n",
        "import numpy\n",
        "\n",
        "x = numpy.random.uniform(0.0, 5.0, 250)\n",
        "\n",
        "print(x)"
      ],
      "execution_count": 17,
      "outputs": [
        {
          "output_type": "stream",
          "text": [
            "[4.60706507 0.92215434 3.72430059 4.69708055 2.63850584 0.24876941\n",
            " 2.49560318 3.23467716 4.83953485 0.494079   2.89688178 2.74413513\n",
            " 1.17634696 1.54403999 2.52939749 0.3197146  0.36649353 4.82582653\n",
            " 2.16890368 3.09461326 0.60901249 4.65508556 3.02783895 0.11073921\n",
            " 2.36428885 0.89657618 3.1212499  0.9622192  2.22299482 1.94326447\n",
            " 1.19243598 0.50743689 2.88565097 1.43692923 4.16399612 1.1768128\n",
            " 0.69946289 4.36019495 0.11686888 0.37827224 2.16326406 0.21334722\n",
            " 2.39478901 1.19015276 4.11069353 3.27545834 0.86652216 1.94732771\n",
            " 3.04940488 1.57615937 2.41375957 2.58935866 2.81274577 4.23494714\n",
            " 2.68718682 3.79138326 2.25446598 0.77249492 2.44740604 1.71114261\n",
            " 3.80941849 2.82145969 2.35731615 4.34513749 3.20768531 0.76394835\n",
            " 1.13121489 4.63500383 4.0665946  4.77707419 3.26081716 3.19445853\n",
            " 4.33431534 4.9857897  1.3223887  1.27988079 2.75694128 2.0521114\n",
            " 1.96869475 3.25279223 4.17503544 2.46932616 1.25347867 4.60420832\n",
            " 2.18559645 3.8598605  0.38796708 2.44362853 4.30153766 1.93094895\n",
            " 3.8556395  1.25120237 4.13351042 4.73316238 4.37452729 4.02571503\n",
            " 0.23779239 2.73679885 3.17052159 2.20649278 1.0977131  2.37648797\n",
            " 3.92443825 1.51098    0.15156905 4.75745368 0.41275933 2.88486859\n",
            " 3.22141332 2.80109033 0.30407466 2.43940471 3.39000542 2.87933755\n",
            " 3.47974397 3.40699106 3.43555275 3.74976105 0.12039484 1.10683016\n",
            " 4.38875253 1.19610848 3.31257293 4.25067245 2.20019447 1.84844357\n",
            " 3.24043184 2.84330099 3.11468071 1.54371288 1.66431209 1.0447874\n",
            " 3.80485392 3.26028042 2.47373764 0.45494401 2.85525278 1.68037818\n",
            " 4.98997595 1.86082065 3.19393963 3.35020765 0.80996934 0.03195432\n",
            " 3.31203715 4.22161043 2.2159619  2.02360123 2.32796979 0.30067902\n",
            " 3.55797629 4.95450071 4.72369152 2.39468254 1.99059599 0.18625571\n",
            " 1.8372836  0.40401826 1.5601842  3.22894587 0.9391904  1.43306333\n",
            " 3.89667525 4.03983926 1.06033881 4.14116997 3.19582917 4.79709488\n",
            " 1.51967638 2.66100151 1.22972239 1.24706279 3.23453853 1.6226999\n",
            " 3.19724895 3.60055362 0.54511703 1.18716421 0.40631779 0.78279544\n",
            " 3.27797875 1.55238186 3.79679111 0.34493854 3.89558555 0.18225408\n",
            " 2.9606594  1.89992146 2.89135101 0.56973191 4.5354571  2.76905273\n",
            " 4.49506225 1.25561173 1.58661505 1.50582508 0.9567801  0.02733223\n",
            " 1.94950892 3.4038764  2.15799333 3.0688488  3.52754564 2.18683866\n",
            " 0.278128   1.8369027  2.12053285 2.05908765 4.82004588 3.82193324\n",
            " 2.06766442 1.6622131  3.14046322 1.21532845 0.67516589 2.60343345\n",
            " 0.3481719  0.82601974 0.41297889 0.48582072 2.04374239 0.63413885\n",
            " 4.73985676 0.97771807 4.76290491 0.74670937 0.02492918 1.76151814\n",
            " 0.90381584 0.92527191 1.73784327 3.16825505 4.5359359  3.82530273\n",
            " 0.04300624 1.89454367 3.75290815 1.48237664 0.20329787 3.75272411\n",
            " 0.54279124 2.50472687 2.80961116 1.78709816 1.81144988 2.75852092\n",
            " 1.77564965 2.44794666 3.48310216 0.76745407]\n"
          ],
          "name": "stdout"
        }
      ]
    },
    {
      "cell_type": "code",
      "metadata": {
        "colab": {
          "base_uri": "https://localhost:8080/",
          "height": 265
        },
        "id": "jotCa8tQmVGl",
        "outputId": "5983177a-7429-4009-a79c-aafbaf8e13c4"
      },
      "source": [
        "import matplotlib.pyplot as plt\n",
        "import numpy as np\n",
        "\n",
        "x = np.random.uniform(0.0, 5.0, 250)\n",
        "\n",
        "plt.hist(x, 5)\n",
        "plt.show()"
      ],
      "execution_count": 18,
      "outputs": [
        {
          "output_type": "display_data",
          "data": {
            "image/png": "[encoded data removed]",
            "text/plain": [
              "<Figure size 432x288 with 1 Axes>"
            ]
          },
          "metadata": {
            "tags": [],
            "needs_background": "light"
          }
        }
      ]
    },
    {
      "cell_type": "code",
      "metadata": {
        "colab": {
          "base_uri": "https://localhost:8080/",
          "height": 265
        },
        "id": "Y4vcwtX9nlAD",
        "outputId": "31d9ccf3-8a08-47f3-9777-9dfaf3c97523"
      },
      "source": [
        "#Normal Data Distribution\n",
        "\n",
        "import numpy\n",
        "import matplotlib.pyplot as plt\n",
        "\n",
        "x = numpy.random.normal(5.0, 1.0, 100000)\n",
        "\n",
        "plt.hist(x, 500)\n",
        "plt.show()"
      ],
      "execution_count": 21,
      "outputs": [
        {
          "output_type": "display_data",
          "data": {
            "image/png": "[encoded data removed]",
            "text/plain": [
              "<Figure size 432x288 with 1 Axes>"
            ]
          },
          "metadata": {
            "tags": [],
            "needs_background": "light"
          }
        }
      ]
    },
    {
      "cell_type": "code",
      "metadata": {
        "colab": {
          "base_uri": "https://localhost:8080/",
          "height": 300
        },
        "id": "Kri68JzKoCEu",
        "outputId": "0988fcf4-757a-4fd0-e3c1-f4c3b4abf3d5"
      },
      "source": [
        "# Scatter Plot\n",
        "import matplotlib.pyplot as plt\n",
        "\n",
        "x = [5,7,8,7,2,17,2,9,4,11,12,9,6]\n",
        "y = [99,86,87,88,111,86,103,87,94,78,77,85,86]\n",
        "\n",
        "\n",
        "plt.scatter(x, y)\n",
        "\n",
        "plt.title(\"Car observation\", loc= 'center', size= 20)\n",
        "plt.xlabel(\"Ages\")\n",
        "plt.ylabel(\"Speed\")\n",
        "plt.show()"
      ],
      "execution_count": 29,
      "outputs": [
        {
          "output_type": "display_data",
          "data": {
            "image/png": "[encoded data removed]",
            "text/plain": [
              "<Figure size 432x288 with 1 Axes>"
            ]
          },
          "metadata": {
            "tags": [],
            "needs_background": "light"
          }
        }
      ]
    },
    {
      "cell_type": "code",
      "metadata": {
        "colab": {
          "base_uri": "https://localhost:8080/",
          "height": 265
        },
        "id": "wEhZ-gM3pbjs",
        "outputId": "d937dcd9-65d8-4f75-e787-5b63a302482c"
      },
      "source": [
        "import numpy\n",
        "import matplotlib.pyplot as plt\n",
        "\n",
        "x = numpy.random.normal(5.0, 1.0, 1000)\n",
        "y = numpy.random.normal(10.0, 2.0, 1000)\n",
        "\n",
        "plt.scatter(x, y)\n",
        "plt.show()"
      ],
      "execution_count": 30,
      "outputs": [
        {
          "output_type": "display_data",
          "data": {
            "image/png": "[encoded data removed]",
            "text/plain": [
              "<Figure size 432x288 with 1 Axes>"
            ]
          },
          "metadata": {
            "tags": [],
            "needs_background": "light"
          }
        }
      ]
    },
    {
      "cell_type": "code",
      "metadata": {
        "colab": {
          "base_uri": "https://localhost:8080/",
          "height": 265
        },
        "id": "y-8BEN4mk2VS",
        "outputId": "1c4bf79c-a017-404e-e9fa-8c678ef7d06d"
      },
      "source": [
        "#Linear Regression\n",
        "import numpy\n",
        "import matplotlib.pyplot as plt\n",
        "from scipy import stats\n",
        "\n",
        "x = [5,7,8,7,2,17,2,9,4,11,12,9,6]\n",
        "y = [99,86,87,88,111,86,103,87,94,78,77,85,86]\n",
        "\n",
        "slope, intercept, r, p, std_err = stats.linregress(x, y)\n",
        "\n",
        "def myfunc(x):\n",
        "  return slope * x + intercept\n",
        "\n",
        "mymodel = list(map(myfunc, x))\n",
        "\n",
        "plt.scatter(x, y)\n",
        "plt.plot(x, mymodel)\n",
        "plt.show()"
      ],
      "execution_count": 5,
      "outputs": [
        {
          "output_type": "display_data",
          "data": {
            "image/png": "[encoded data removed]",
            "text/plain": [
              "<Figure size 432x288 with 1 Axes>"
            ]
          },
          "metadata": {
            "tags": [],
            "needs_background": "light"
          }
        }
      ]
    },
    {
      "cell_type": "code",
      "metadata": {
        "colab": {
          "base_uri": "https://localhost:8080/"
        },
        "id": "gZjAL9HPqKFF",
        "outputId": "dbb9b84e-58fb-49e6-d5c5-ae3fa20198cb"
      },
      "source": [
        "from scipy import stats\n",
        "\n",
        "x = [5,7,8,7,2,17,2,9,4,11,12,9,6]\n",
        "y = [99,86,87,88,111,86,103,87,94,78,77,85,86]\n",
        "\n",
        "slope, intercept, r, p, std_err = stats.linregress(x, y)\n",
        "\n",
        "def myfunc(x):\n",
        "  return slope * x + intercept\n",
        "\n",
        "speed = myfunc(10)\n",
        "\n",
        "print(speed)"
      ],
      "execution_count": 6,
      "outputs": [
        {
          "output_type": "stream",
          "text": [
            "85.59308314937454\n"
          ],
          "name": "stdout"
        }
      ]
    },
    {
      "cell_type": "code",
      "metadata": {
        "colab": {
          "base_uri": "https://localhost:8080/"
        },
        "id": "h8mP9T9Yqv7b",
        "outputId": "c989385d-8277-4e03-f5e8-20fa61a1b453"
      },
      "source": [
        "import matplotlib.pyplot as plt\n",
        "from scipy import stats\n",
        "\n",
        "x = [89,43,36,36,95,10,66,34,38,20,26,29,48,64,6,5,36,66,72,40]\n",
        "y = [21,46,3,35,67,95,53,72,58,10,26,34,90,33,38,20,56,2,47,15]\n",
        "\n",
        "slope, intercept, r, p, std_err = stats.linregress(x, y)\n",
        "\n",
        "\"\"\"\n",
        "def myfunc(x):\n",
        "  return slope * x + intercept\n",
        "\n",
        "mymodel = list(map(myfunc, x))\n",
        "\n",
        "plt.scatter(x, y)\n",
        "plt.plot(x, mymodel)\n",
        "plt.show()\n",
        "\"\"\"\n",
        "print(r)"
      ],
      "execution_count": 9,
      "outputs": [
        {
          "output_type": "stream",
          "text": [
            "0.01331814154297491\n"
          ],
          "name": "stdout"
        }
      ]
    },
    {
      "cell_type": "code",
      "metadata": {
        "colab": {
          "base_uri": "https://localhost:8080/",
          "height": 265
        },
        "id": "Ns11zjt7sB9j",
        "outputId": "9cf9b15e-bec2-4cd2-c4aa-009fc342d5fd"
      },
      "source": [
        "#Ploynomial Regression\n",
        "import numpy\n",
        "import matplotlib.pyplot as plt\n",
        "\n",
        "x = [1,2,3,5,6,7,8,9,10,12,13,14,15,16,18,19,21,22]\n",
        "y = [100,90,80,60,60,55,60,65,70,70,75,76,78,79,90,99,99,100]\n",
        "\n",
        "mymodel = numpy.poly1d(numpy.polyfit(x, y, 3))\n",
        "\n",
        "myline = numpy.linspace(1, 22, 100)\n",
        "\n",
        "plt.scatter(x, y)\n",
        "plt.plot(myline, mymodel(myline))\n",
        "plt.show()"
      ],
      "execution_count": 14,
      "outputs": [
        {
          "output_type": "display_data",
          "data": {
            "image/png": "[encoded data removed]",
            "text/plain": [
              "<Figure size 432x288 with 1 Axes>"
            ]
          },
          "metadata": {
            "tags": [],
            "needs_background": "light"
          }
        }
      ]
    },
    {
      "cell_type": "code",
      "metadata": {
        "colab": {
          "base_uri": "https://localhost:8080/"
        },
        "id": "QLvS6b50uw5Z",
        "outputId": "cd225582-7a97-40ed-c27f-cd0b8192b660"
      },
      "source": [
        "import numpy\n",
        "from sklearn.metrics import  r2_score\n",
        "\n",
        "x = [1,2,3,5,6,7,8,9,10,12,13,14,15,16,18,19,21,22]\n",
        "y = [100,90,80,60,60,55,60,65,70,70,75,76,78,79,90,99,99,100]\n",
        "\n",
        "mymodel = numpy.poly1d(numpy.polyfit(x, y, 3))\n",
        "\n",
        "print(r2_score(y, mymodel(x)))"
      ],
      "execution_count": 15,
      "outputs": [
        {
          "output_type": "stream",
          "text": [
            "0.9432150416451026\n"
          ],
          "name": "stdout"
        }
      ]
    },
    {
      "cell_type": "code",
      "metadata": {
        "colab": {
          "base_uri": "https://localhost:8080/"
        },
        "id": "F_He-49zvUss",
        "outputId": "da0eef7a-a91a-4359-c025-70b92f1f9a92"
      },
      "source": [
        "import numpy\n",
        "from sklearn.metrics import  r2_score\n",
        "\n",
        "x = [1,2,3,5,6,7,8,9,10,12,13,14,15,16,18,19,21,22]\n",
        "y = [100,90,80,60,60,55,60,65,70,70,75,76,78,79,90,99,99,100]\n",
        "\n",
        "mymodel = numpy.poly1d(numpy.polyfit(x, y, 3))\n",
        "\n",
        "speed = mymodel(17)\n",
        "print(speed)"
      ],
      "execution_count": 16,
      "outputs": [
        {
          "output_type": "stream",
          "text": [
            "88.87331269697997\n"
          ],
          "name": "stdout"
        }
      ]
    },
    {
      "cell_type": "code",
      "metadata": {
        "colab": {
          "base_uri": "https://localhost:8080/",
          "height": 265
        },
        "id": "2DM7UlWTvrYe",
        "outputId": "a6131da2-a682-4dae-b54a-635443b0ef17"
      },
      "source": [
        "import numpy\n",
        "import matplotlib.pyplot as plt\n",
        "\n",
        "x = [89,43,36,36,95,10,66,34,38,20,26,29,48,64,6,5,36,66,72,40]\n",
        "y = [21,46,3,35,67,95,53,72,58,10,26,34,90,33,38,20,56,2,47,15]\n",
        "\n",
        "mymodel = numpy.poly1d(numpy.polyfit(x, y, 3))\n",
        "\n",
        "\n",
        "myline = numpy.linspace(2, 95, 100)\n",
        "\n",
        "plt.scatter(x, y)\n",
        "plt.plot(myline, mymodel(myline))\n",
        "plt.show()\n"
      ],
      "execution_count": 23,
      "outputs": [
        {
          "output_type": "display_data",
          "data": {
            "image/png": "[encoded data removed]",
            "text/plain": [
              "<Figure size 432x288 with 1 Axes>"
            ]
          },
          "metadata": {
            "tags": [],
            "needs_background": "light"
          }
        }
      ]
    },
    {
      "cell_type": "code",
      "metadata": {
        "colab": {
          "base_uri": "https://localhost:8080/"
        },
        "id": "rtWj00RPwhkw",
        "outputId": "715f70f0-03cf-4f2d-95ec-7bdf3110c505"
      },
      "source": [
        "import numpy\n",
        "from sklearn.metrics import  r2_score\n",
        "\n",
        "x = [89,43,36,36,95,10,66,34,38,20,26,29,48,64,6,5,36,66,72,40]\n",
        "y = [21,46,3,35,67,95,53,72,58,10,26,34,90,33,38,20,56,2,47,15]\n",
        "\n",
        "mymodel = numpy.poly1d(numpy.polyfit(x, y, 3))\n",
        "\n",
        "print(r)"
      ],
      "execution_count": 22,
      "outputs": [
        {
          "output_type": "stream",
          "text": [
            "0.01331814154297491\n"
          ],
          "name": "stdout"
        }
      ]
    },
    {
      "cell_type": "code",
      "metadata": {
        "colab": {
          "base_uri": "https://localhost:8080/"
        },
        "id": "5S25AoV-Y0E3",
        "outputId": "adc42491-b84e-4a91-8b66-248eba4805c8"
      },
      "source": [
        "import pandas\n",
        "from sklearn import  linear_model\n",
        "\n",
        "df = pandas.read_csv(\"/content/sample_data/cars.csv\")\n",
        "\n",
        "X = df[['Weight', 'Volume']]\n",
        "y = df['CO2']\n",
        "\n",
        "regr = linear_model.LinearRegression()\n",
        "regr.fit(X, y)\n",
        "\n",
        "#predict the CO2 emission of a car where the weight is 2300kg, and the volume is 1300cm3:\n",
        "predictedCO2 =regr.predict([[2300, 1300]])\n",
        "\n",
        "print(predictedCO2)"
      ],
      "execution_count": 14,
      "outputs": [
        {
          "output_type": "stream",
          "text": [
            "[107.2087328]\n"
          ],
          "name": "stdout"
        }
      ]
    },
    {
      "cell_type": "code",
      "metadata": {
        "colab": {
          "base_uri": "https://localhost:8080/"
        },
        "id": "Mq3aQlVCoZho",
        "outputId": "e5b66ad6-1a7e-4178-c695-4a12ba30f34a"
      },
      "source": [
        "import os\n",
        "\n",
        "cwd = os.getcwd()  # Get the current working directory (cwd)\n",
        "files = os.listdir(cwd)  # Get all the files in that directory\n",
        "print(\"Files in %r: %s\" % (cwd, files))"
      ],
      "execution_count": 9,
      "outputs": [
        {
          "output_type": "stream",
          "text": [
            "Files in '/content': ['.config', 'Tutor', '.ipynb_checkpoints', 'sample_data']\n"
          ],
          "name": "stdout"
        }
      ]
    },
    {
      "cell_type": "code",
      "metadata": {
        "colab": {
          "base_uri": "https://localhost:8080/"
        },
        "id": "Z6co2wPs7PnN",
        "outputId": "07f1f8e3-0012-4808-8208-71c691ad81dd"
      },
      "source": [
        "import pandas\n",
        "from sklearn import linear_model\n",
        "\n",
        "df = pandas.read_csv(\"/content/sample_data/cars.csv\")\n",
        "\n",
        "X = df[['Weight', 'Volume']]\n",
        "y = df['CO2']\n",
        "\n",
        "regr = linear_model.LinearRegression()\n",
        "regr.fit(X, y)\n",
        "\n",
        "print(regr.coef_)"
      ],
      "execution_count": 16,
      "outputs": [
        {
          "output_type": "stream",
          "text": [
            "[0.00755095 0.00780526]\n"
          ],
          "name": "stdout"
        }
      ]
    },
    {
      "cell_type": "code",
      "metadata": {
        "colab": {
          "base_uri": "https://localhost:8080/"
        },
        "id": "plrBU49v8KCJ",
        "outputId": "7664a846-b417-4190-867b-be33d9dfba3d"
      },
      "source": [
        "import pandas\n",
        "from sklearn import linear_model\n",
        "\n",
        "df = pandas.read_csv(\"/content/sample_data/cars.csv\")\n",
        "\n",
        "x = df[['Weight', 'Volume']]\n",
        "y = df[\"CO2\"]\n",
        "\n",
        "regr = linear_model.LinearRegression()\n",
        "regr.fit(X, y)\n",
        "\n",
        "predictedCO2 = regr.predict([[3300, 1300]])\n",
        "\n",
        "print(predictedCO2)"
      ],
      "execution_count": 18,
      "outputs": [
        {
          "output_type": "stream",
          "text": [
            "[114.75968007]\n"
          ],
          "name": "stdout"
        }
      ]
    }
  ]
}